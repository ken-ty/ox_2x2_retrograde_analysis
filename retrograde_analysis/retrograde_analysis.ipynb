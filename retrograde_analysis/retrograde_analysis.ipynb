{
  "nbformat": 4,
  "nbformat_minor": 0,
  "metadata": {
    "colab": {
      "name": "retrograde_analysis.ipynb",
      "provenance": [],
      "collapsed_sections": [],
      "toc_visible": true,
      "include_colab_link": true
    },
    "kernelspec": {
      "name": "python3",
      "display_name": "Python 3"
    }
  },
  "cells": [
    {
      "cell_type": "markdown",
      "metadata": {
        "id": "view-in-github",
        "colab_type": "text"
      },
      "source": [
        "<a href=\"https://colab.research.google.com/github/kentokura/ox_2x2_retrograde_analysis/blob/main/retrograde_analysis/retrograde_analysis.ipynb\" target=\"_parent\"><img src=\"https://colab.research.google.com/assets/colab-badge.svg\" alt=\"Open In Colab\"/></a>"
      ]
    },
    {
      "cell_type": "markdown",
      "metadata": {
        "id": "haKFa3MPP6Ju"
      },
      "source": [
        "# インプット"
      ]
    },
    {
      "cell_type": "code",
      "metadata": {
        "id": "g2bHly7CIMmC",
        "outputId": "c826fc28-233f-4e28-a8a4-f2cf57c8b176",
        "colab": {
          "base_uri": "https://localhost:8080/"
        }
      },
      "source": [
        "# ドライブのマウント\n",
        "from google.colab import drive\n",
        "drive.mount('/content/drive')\n",
        "\n",
        "# githubリポジトリをドライブにクローンする\n",
        "!git clone https://github.com/kentokura/ox_2x2_retrograde_analysis.git"
      ],
      "execution_count": 10,
      "outputs": [
        {
          "output_type": "stream",
          "text": [
            "Drive already mounted at /content/drive; to attempt to forcibly remount, call drive.mount(\"/content/drive\", force_remount=True).\n",
            "fatal: destination path 'ox_2x2_retrograde_analysis' already exists and is not an empty directory.\n"
          ],
          "name": "stdout"
        }
      ]
    },
    {
      "cell_type": "code",
      "metadata": {
        "id": "GLl6LwAOI689"
      },
      "source": [
        "# csvの読み込むためのモジュール\n",
        "import pandas as pd\n",
        "from pandas import DataFrame\n",
        "import numpy as np\n",
        "from tabulate import tabulate # pandasのdfをきれいに出力するためのモジュール"
      ],
      "execution_count": 11,
      "outputs": []
    },
    {
      "cell_type": "code",
      "metadata": {
        "id": "HbCduD4KrV0m",
        "outputId": "d944baff-32c2-4711-a379-b6cecaa6bb20",
        "colab": {
          "base_uri": "https://localhost:8080/"
        }
      },
      "source": [
        "# ox_inputの読み込み\n",
        "\n",
        "solvedDf = pd.read_csv(\n",
        "    \"/content/ox_2x2_retrograde_analysis/retrograde_analysis/ox_input.csv\",\n",
        "    index_col=0, # 最初の１行はデータ名。\n",
        "    encoding=\"cp932\" # windowsの追加文字に対応。おまじないだと思えば良い。\n",
        "    )\n",
        "print(solvedDf)"
      ],
      "execution_count": 12,
      "outputs": [
        {
          "output_type": "stream",
          "text": [
            "     PREVIOUS_STATES STATE               NEXT_STATES RESULT\n",
            "____            ['']  ____                  ['o___']    NaN\n",
            "o___        ['____']  o___  ['o__x', 'o_x_', 'ox__']    NaN\n",
            "o__x        ['o___']  o__x          ['oo_x', 'o_ox']    NaN\n",
            "o_x_        ['o___']  o_x_          ['o_xo', 'oox_']    NaN\n",
            "ox__        ['o___']  ox__          ['oxo_', 'ox_o']    NaN\n",
            "oo_x        ['o__x']  oo_x                        []  o_win\n",
            "o_ox        ['o__x']  o_ox                        []  o_win\n",
            "o_xo        ['o_x_']  o_xo                        []  o_win\n",
            "oox_        ['o_x_']  oox_                        []  o_win\n",
            "oxo_        ['ox__']  oxo_                        []  o_win\n",
            "ox_o        ['ox__']  ox_o                        []  o_win\n"
          ],
          "name": "stdout"
        }
      ]
    },
    {
      "cell_type": "markdown",
      "metadata": {
        "id": "IUkeWGcNP-ky"
      },
      "source": [
        "# 処理"
      ]
    },
    {
      "cell_type": "markdown",
      "metadata": {
        "id": "cNsn1TjoQA5V"
      },
      "source": [
        "# 出力"
      ]
    },
    {
      "cell_type": "code",
      "metadata": {
        "id": "2CEigR_DP_W-"
      },
      "source": [
        "# solvedDfをox_outputという名前で書き出し\n",
        "solvedDf.to_csv('/content/ox_2x2_retrograde_analysis/retrograde_analysis/ox_output.csv')"
      ],
      "execution_count": 13,
      "outputs": []
    },
    {
      "cell_type": "code",
      "metadata": {
        "id": "RdsAPq6MQG87",
        "outputId": "416acc6a-9aa6-4c17-90b8-da8b27d82fbe",
        "colab": {
          "base_uri": "https://localhost:8080/"
        }
      },
      "source": [
        "# ox_outputの確認\n",
        "\n",
        "solvedDf = pd.read_csv(\n",
        "    \"/content/ox_2x2_retrograde_analysis/retrograde_analysis/ox_output.csv\",\n",
        "    index_col=0, # 最初の１行はデータ名。\n",
        "    encoding=\"cp932\" # windowsの追加文字に対応。おまじないだと思えば良い。\n",
        "    )\n",
        "print(solvedDf)"
      ],
      "execution_count": 14,
      "outputs": [
        {
          "output_type": "stream",
          "text": [
            "     PREVIOUS_STATES STATE               NEXT_STATES RESULT\n",
            "____            ['']  ____                  ['o___']    NaN\n",
            "o___        ['____']  o___  ['o__x', 'o_x_', 'ox__']    NaN\n",
            "o__x        ['o___']  o__x          ['oo_x', 'o_ox']    NaN\n",
            "o_x_        ['o___']  o_x_          ['o_xo', 'oox_']    NaN\n",
            "ox__        ['o___']  ox__          ['oxo_', 'ox_o']    NaN\n",
            "oo_x        ['o__x']  oo_x                        []  o_win\n",
            "o_ox        ['o__x']  o_ox                        []  o_win\n",
            "o_xo        ['o_x_']  o_xo                        []  o_win\n",
            "oox_        ['o_x_']  oox_                        []  o_win\n",
            "oxo_        ['ox__']  oxo_                        []  o_win\n",
            "ox_o        ['ox__']  ox_o                        []  o_win\n"
          ],
          "name": "stdout"
        }
      ]
    }
  ]
}