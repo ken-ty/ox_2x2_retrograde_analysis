{
  "nbformat": 4,
  "nbformat_minor": 0,
  "metadata": {
    "colab": {
      "name": "retrograde_analysis.ipynb",
      "provenance": [],
      "collapsed_sections": [],
      "toc_visible": true,
      "include_colab_link": true
    },
    "kernelspec": {
      "name": "python3",
      "display_name": "Python 3"
    }
  },
  "cells": [
    {
      "cell_type": "markdown",
      "metadata": {
        "id": "view-in-github",
        "colab_type": "text"
      },
      "source": [
        "<a href=\"https://colab.research.google.com/github/kentokura/ox_2x2_retrograde_analysis/blob/main/retrograde_analysis/retrograde_analysis.ipynb\" target=\"_parent\"><img src=\"https://colab.research.google.com/assets/colab-badge.svg\" alt=\"Open In Colab\"/></a>"
      ]
    },
    {
      "cell_type": "markdown",
      "metadata": {
        "id": "unBoXXcI2SFK"
      },
      "source": [
        "## ox_input\n",
        "\n",
        "|      | PREVIOUS_STATES   | STATE   | NEXT_STATES              | RESULT   |\n",
        "|------|-------------------|---------|--------------------------|----------|\n",
        "| ____ | ['']              | ____    | ['o___']                 | nan      |\n",
        "| o___ | ['____']          | o___    | ['o__x', 'o_x_', 'ox__'] | nan      |\n",
        "| o__x | ['o___']          | o__x    | ['oo_x', 'o_ox']         | nan      |\n",
        "| o_x_ | ['o___']          | o_x_    | ['o_xo', 'oox_']         | nan      |\n",
        "| ox__ | ['o___']          | ox__    | ['oxo_', 'ox_o']         | nan      |\n",
        "| oo_x | ['o__x']          | oo_x    | []                       | o_win    |\n",
        "| o_ox | ['o__x']          | o_ox    | []                       | o_win    |\n",
        "| o_xo | ['o_x_']          | o_xo    | []                       | o_win    |\n",
        "| oox_ | ['o_x_']          | oox_    | []                       | o_win    |\n",
        "| oxo_ | ['ox__']          | oxo_    | []                       | o_win    |\n",
        "| ox_o | ['ox__']          | ox_o    | []                       | o_win    |\n",
        "\n",
        "## 前処理 \n",
        "辺の数列を追加\n",
        "\n",
        "\n",
        "## 処理\n",
        "\n",
        "\n",
        "\n",
        "```\n",
        "Q をキューとする\n",
        "dp テーブル全体を -1 に初期化する\n",
        "for each 各ノード v do\n",
        "    if deg[v] == 0 then\n",
        "        dp[v] = 0\n",
        "        v を Q に push\n",
        "\n",
        "while Q が空ではない do\n",
        "    Q からノード v を pop して取り出す\n",
        "    for each v を終点とする辺 e とその始点のノード nv do\n",
        "        if nv はすでに訪れたノード then\n",
        "            continue\n",
        "        辺 e をグラフから削除 (実装上は deg[nv] の値を減らせば OK)\n",
        "        if dp[v] = 0 then\n",
        "            dp[nv] = 1\n",
        "            nv を Q に push\n",
        "        else if dp[v] = 1 then\n",
        "            if deg[nv] = 0 then (辺を削除して行ったことで出次数が 0 になったら負けノード確定です)\n",
        "                dp[nv] = 0\n",
        "                nv を Q に push\n",
        "```\n",
        "\n",
        "```\n",
        "unsolvedDfをキューとする\n",
        "inputDf[\"RESULT\"]を -1 に初期化する\n",
        "for each inputDf node do\n",
        "    if node.\"NEXT_STATES\" == [] then\n",
        "        dp[i] = 0\n",
        "        v を Q に push\n",
        "```\n",
        "\n",
        "グラフから葉をけずりおとしていくイメージ\n",
        "- 前処理<br>\n",
        "resultに\"*_win\"か\"braw\"が入力されている<br> -> それぞれのPrevious_statesに登録されているstateと一致するノードをinputDfからunsolvedDfへ移動、本体はsolvedDfへ移動.\n",
        "- メイン処理\n",
        "\n",
        "\n",
        "BFS\n",
        "のこったunsolvedをあいこにする\n",
        "後処理\n",
        "\n",
        "\n",
        "## ox_output\n",
        "\n",
        "|      | PREVIOUS_STATES   | STATE   | NEXT_STATES              | RESULT   |\n",
        "|------|-------------------|---------|--------------------------|----------|\n",
        "| ____ | ['']              | ____    | ['o___']                 | o_win      |\n",
        "| o___ | ['____']          | o___    | ['o__x', 'o_x_', 'ox__'] | o_win      |\n",
        "| o__x | ['o___']          | o__x    | ['oo_x', 'o_ox']         | o_win      |\n",
        "| o_x_ | ['o___']          | o_x_    | ['o_xo', 'oox_']         | o_win      |\n",
        "| ox__ | ['o___']          | ox__    | ['oxo_', 'ox_o']         | o_win      |\n",
        "| oo_x | ['o__x']          | oo_x    | []                       | o_win    |\n",
        "| o_ox | ['o__x']          | o_ox    | []                       | o_win    |\n",
        "| o_xo | ['o_x_']          | o_xo    | []                       | o_win    |\n",
        "| oox_ | ['o_x_']          | oox_    | []                       | o_win    |\n",
        "| oxo_ | ['ox__']          | oxo_    | []                       | o_win    |\n",
        "| ox_o | ['ox__']          | ox_o    | []                       | o_win    |"
      ]
    },
    {
      "cell_type": "markdown",
      "metadata": {
        "id": "9CYSo-AFUlnW"
      },
      "source": [
        "```\n",
        "\n",
        "各ノードはまだ勝敗が一つもわかっていない\n",
        "# 前処理\n",
        "for each 各ノード do\n",
        "    if ノード.枝の本数 == ０本 then\n",
        "        ノード.勝敗 = 勝敗確認(ノード)\n",
        "        キューにノードをpush\n",
        " \n",
        "while キューが空ではない do\n",
        "    キューからノードをpopして取り出す\n",
        "    for each ノード.ひとつ前のノード do\n",
        "        if ひとつ前のノード はすでに訪れたノード then\n",
        "            continue\n",
        "        ひとつ前のノード.辺の数 -= 1\n",
        "        if ノード.勝敗 = \"負け\" then # このノードが手番Pの負けならば、一つ前の状態でその手をさせば勝てる\n",
        "            ひとつ前のノード.勝敗 = \"勝ち\"\n",
        "            ひとつ前のノード を キュー に push\n",
        "        else if ノード.勝敗 = \"勝ち\" then\n",
        "            if ひとつ前のノード.辺の数 = 0 then # 辺を削除して行ったことで出次数が 0 になったら負けノード確定\n",
        "                ひとつ前のノード.勝敗 = 負け\n",
        "                ひとつ前のノード を キュー に push\n",
        "\n",
        "```"
      ]
    },
    {
      "cell_type": "markdown",
      "metadata": {
        "id": "haKFa3MPP6Ju"
      },
      "source": [
        "# インプット"
      ]
    },
    {
      "cell_type": "code",
      "metadata": {
        "id": "g2bHly7CIMmC",
        "outputId": "7f5d666d-8ad5-4ddd-93ce-e26a22270c88",
        "colab": {
          "base_uri": "https://localhost:8080/"
        }
      },
      "source": [
        "# ドライブのマウント\n",
        "from google.colab import drive\n",
        "drive.mount('/content/drive')\n",
        "\n",
        "# githubリポジトリをドライブにクローンする\n",
        "!git clone https://github.com/kentokura/ox_2x2_retrograde_analysis.git"
      ],
      "execution_count": 1,
      "outputs": [
        {
          "output_type": "stream",
          "text": [
            "Mounted at /content/drive\n",
            "Cloning into 'ox_2x2_retrograde_analysis'...\n",
            "remote: Enumerating objects: 41, done.\u001b[K\n",
            "remote: Counting objects: 100% (41/41), done.\u001b[K\n",
            "remote: Compressing objects: 100% (39/39), done.\u001b[K\n",
            "remote: Total 41 (delta 11), reused 0 (delta 0), pack-reused 0\u001b[K\n",
            "Unpacking objects: 100% (41/41), done.\n"
          ],
          "name": "stdout"
        }
      ]
    },
    {
      "cell_type": "code",
      "metadata": {
        "id": "GLl6LwAOI689"
      },
      "source": [
        "# csvの読み込むためのモジュール\n",
        "import pandas as pd\n",
        "from pandas import DataFrame\n",
        "import numpy as np\n",
        "from tabulate import tabulate # pandasのdfをきれいに出力するためのモジュール"
      ],
      "execution_count": 2,
      "outputs": []
    },
    {
      "cell_type": "code",
      "metadata": {
        "id": "HbCduD4KrV0m",
        "outputId": "b9edf248-7089-4c0a-b010-10687550131b",
        "colab": {
          "base_uri": "https://localhost:8080/"
        }
      },
      "source": [
        "# ox_inputの読み込み\n",
        "\n",
        "inputDf = pd.read_csv(\n",
        "    \"/content/ox_2x2_retrograde_analysis/retrograde_analysis/ox_input.csv\",\n",
        "    index_col=0, # 最初の１行はデータ名。\n",
        "    encoding=\"cp932\" # windowsの追加文字に対応。おまじないだと思えば良い。\n",
        "    )\n",
        "print(tabulate(inputDf, inputDf.columns,tablefmt='github', showindex=True))\n"
      ],
      "execution_count": 3,
      "outputs": [
        {
          "output_type": "stream",
          "text": [
            "|      | PREVIOUS_STATES   | STATE   | NEXT_STATES              | RESULT   |\n",
            "|------|-------------------|---------|--------------------------|----------|\n",
            "| ____ | ['']              | ____    | ['o___']                 | nan      |\n",
            "| o___ | ['____']          | o___    | ['o__x', 'o_x_', 'ox__'] | nan      |\n",
            "| o__x | ['o___']          | o__x    | ['oo_x', 'o_ox']         | nan      |\n",
            "| o_x_ | ['o___']          | o_x_    | ['o_xo', 'oox_']         | nan      |\n",
            "| ox__ | ['o___']          | ox__    | ['oxo_', 'ox_o']         | nan      |\n",
            "| oo_x | ['o__x']          | oo_x    | []                       | o_win    |\n",
            "| o_ox | ['o__x']          | o_ox    | []                       | o_win    |\n",
            "| o_xo | ['o_x_']          | o_xo    | []                       | o_win    |\n",
            "| oox_ | ['o_x_']          | oox_    | []                       | o_win    |\n",
            "| oxo_ | ['ox__']          | oxo_    | []                       | o_win    |\n",
            "| ox_o | ['ox__']          | ox_o    | []                       | o_win    |\n"
          ],
          "name": "stdout"
        }
      ]
    },
    {
      "cell_type": "markdown",
      "metadata": {
        "id": "IUkeWGcNP-ky"
      },
      "source": [
        "# 処理"
      ]
    },
    {
      "cell_type": "code",
      "metadata": {
        "id": "tw3yqU7t0CLJ"
      },
      "source": [
        "# 抽象構文木の処理モジュール\n",
        "# str化したlistをlistに戻す \"[hoge, huga]\" -> [hoge, huga]\n",
        "import ast\n",
        "workDf = inputDf"
      ],
      "execution_count": 4,
      "outputs": []
    },
    {
      "cell_type": "code",
      "metadata": {
        "id": "-RAp6IVkYXxm",
        "outputId": "0670bd1f-59d3-4f76-8e0f-3c5b3f23ee92",
        "colab": {
          "base_uri": "https://localhost:8080/"
        }
      },
      "source": [
        "# 手番をつける\n",
        "workDf[\"TURN_PLAYER\"] = \"unsolved\"\n",
        "workDf.loc[workDf[\"STATE\"].str.count(\"_\") % 2 == 0, \"TURN_PLAYER\"] = \"o\"\n",
        "workDf.loc[workDf[\"STATE\"].str.count(\"_\") % 2 == 1, \"TURN_PLAYER\"] = \"x\"\n",
        "# next_statesの辺の数の列をつくる\n",
        "workDf[\"NEXT_STATES_NUM\"] = workDf[\"NEXT_STATES\"]\n",
        "for index in workDf.index:\n",
        "  num = len(ast.literal_eval(workDf.loc[index].NEXT_STATES_NUM))\n",
        "  workDf.at[index, \"NEXT_STATES_NUM\"] = num\n",
        "print(workDf)"
      ],
      "execution_count": 5,
      "outputs": [
        {
          "output_type": "stream",
          "text": [
            "     PREVIOUS_STATES STATE  ... TURN_PLAYER NEXT_STATES_NUM\n",
            "____            ['']  ____  ...           o               1\n",
            "o___        ['____']  o___  ...           x               3\n",
            "o__x        ['o___']  o__x  ...           o               2\n",
            "o_x_        ['o___']  o_x_  ...           o               2\n",
            "ox__        ['o___']  ox__  ...           o               2\n",
            "oo_x        ['o__x']  oo_x  ...           x               0\n",
            "o_ox        ['o__x']  o_ox  ...           x               0\n",
            "o_xo        ['o_x_']  o_xo  ...           x               0\n",
            "oox_        ['o_x_']  oox_  ...           x               0\n",
            "oxo_        ['ox__']  oxo_  ...           x               0\n",
            "ox_o        ['ox__']  ox_o  ...           x               0\n",
            "\n",
            "[11 rows x 6 columns]\n"
          ],
          "name": "stdout"
        }
      ]
    },
    {
      "cell_type": "code",
      "metadata": {
        "id": "3gh0-NwoZN-h",
        "outputId": "e1833b40-947d-4ffd-99cd-907e4753d736",
        "colab": {
          "base_uri": "https://localhost:8080/",
          "height": 120
        }
      },
      "source": [
        "各ノードはまだ勝敗が一つもわかっていない\n",
        "# 前処理\n",
        "for each 各ノード do\n",
        "    if ノード.枝の本数 == ０本 then\n",
        "        ノード.勝敗 = 勝敗確認(ノード)\n",
        "        キューにノードをpush\n",
        " \n",
        "while キューが空ではない do\n",
        "    キューからノードをpopして取り出す\n",
        "    for each ノード.ひとつ前のノード do\n",
        "        if ひとつ前のノード はすでに訪れたノード then\n",
        "            continue\n",
        "        ひとつ前のノード.辺の数 -= 1\n",
        "        if ノード.勝敗 = \"負け\" then # このノードが手番Pの負けならば、一つ前の状態でその手をさせば勝てる\n",
        "            ひとつ前のノード.勝敗 = \"勝ち\"\n",
        "            ひとつ前のノード を キュー に push\n",
        "        else if ノード.勝敗 = \"勝ち\" then\n",
        "            if ひとつ前のノード.辺の数 = 0 then # 辺を削除して行ったことで出次数が 0 になったら負けノード確定\n",
        "                ひとつ前のノード.勝敗 = 負け\n",
        "                ひとつ前のノード を キュー に push\n"
      ],
      "execution_count": 7,
      "outputs": [
        {
          "output_type": "execute_result",
          "data": {
            "application/vnd.google.colaboratory.intrinsic+json": {
              "type": "string"
            },
            "text/plain": [
              "'\\n\\n各ノードはまだ勝敗が一つもわかっていない\\n# 前処理\\nfor each 各ノード do\\n    if ノード.枝の本数 == ０本 then\\n        ノード.勝敗 = 勝敗確認(ノード)\\n        キューにノードをpush\\n \\nwhile キューが空ではない do\\n    キューからノードをpopして取り出す\\n    for each ノード.ひとつ前のノード do\\n        if ひとつ前のノード はすでに訪れたノード then\\n            continue\\n        ひとつ前のノード.辺の数 -= 1\\n        if ノード.勝敗 = \"負け\" then # このノードが手番Pの負けならば、一つ前の状態でその手をさせば勝てる\\n            ひとつ前のノード.勝敗 = \"勝ち\"\\n            ひとつ前のノード を キュー に push\\n        else if ノード.勝敗 = \"勝ち\" then\\n            if ひとつ前のノード.辺の数 = 0 then # 辺を削除して行ったことで出次数が 0 になったら負けノード確定\\n                ひとつ前のノード.勝敗 = 負け\\n                ひとつ前のノード を キュー に push\\n\\n'"
            ]
          },
          "metadata": {
            "tags": []
          },
          "execution_count": 7
        }
      ]
    },
    {
      "cell_type": "markdown",
      "metadata": {
        "id": "cNsn1TjoQA5V"
      },
      "source": [
        "# 出力"
      ]
    },
    {
      "cell_type": "code",
      "metadata": {
        "id": "2CEigR_DP_W-"
      },
      "source": [
        "# solvedDfをox_outputという名前で書き出し\n",
        "solvedDf.to_csv('/content/ox_2x2_retrograde_analysis/retrograde_analysis/ox_output.csv')"
      ],
      "execution_count": 4,
      "outputs": []
    },
    {
      "cell_type": "code",
      "metadata": {
        "id": "RdsAPq6MQG87",
        "outputId": "7a7ea335-f760-4ff6-9ac8-468356d12296",
        "colab": {
          "base_uri": "https://localhost:8080/"
        }
      },
      "source": [
        "# ox_outputの確認\n",
        "\n",
        "solvedDf = pd.read_csv(\n",
        "    \"/content/ox_2x2_retrograde_analysis/retrograde_analysis/ox_output.csv\",\n",
        "    index_col=0, # 最初の１行はデータ名。\n",
        "    encoding=\"cp932\" # windowsの追加文字に対応。おまじないだと思えば良い。\n",
        "    )\n",
        "print(solvedDf)"
      ],
      "execution_count": 5,
      "outputs": [
        {
          "output_type": "stream",
          "text": [
            "     PREVIOUS_STATES STATE               NEXT_STATES RESULT\n",
            "____            ['']  ____                  ['o___']    NaN\n",
            "o___        ['____']  o___  ['o__x', 'o_x_', 'ox__']    NaN\n",
            "o__x        ['o___']  o__x          ['oo_x', 'o_ox']    NaN\n",
            "o_x_        ['o___']  o_x_          ['o_xo', 'oox_']    NaN\n",
            "ox__        ['o___']  ox__          ['oxo_', 'ox_o']    NaN\n",
            "oo_x        ['o__x']  oo_x                        []  o_win\n",
            "o_ox        ['o__x']  o_ox                        []  o_win\n",
            "o_xo        ['o_x_']  o_xo                        []  o_win\n",
            "oox_        ['o_x_']  oox_                        []  o_win\n",
            "oxo_        ['ox__']  oxo_                        []  o_win\n",
            "ox_o        ['ox__']  ox_o                        []  o_win\n"
          ],
          "name": "stdout"
        }
      ]
    }
  ]
}