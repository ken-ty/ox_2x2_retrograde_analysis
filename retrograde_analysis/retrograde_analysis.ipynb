{
  "nbformat": 4,
  "nbformat_minor": 0,
  "metadata": {
    "colab": {
      "name": "retrograde_analysis.ipynb",
      "provenance": [],
      "collapsed_sections": [],
      "authorship_tag": "ABX9TyPql8u+alhuopjge3jYRqbb",
      "include_colab_link": true
    },
    "kernelspec": {
      "name": "python3",
      "display_name": "Python 3"
    }
  },
  "cells": [
    {
      "cell_type": "markdown",
      "metadata": {
        "id": "view-in-github",
        "colab_type": "text"
      },
      "source": [
        "<a href=\"https://colab.research.google.com/github/kentokura/ox_2x2_retrograde_analysis/blob/main/retrograde_analysis/retrograde_analysis.ipynb\" target=\"_parent\"><img src=\"https://colab.research.google.com/assets/colab-badge.svg\" alt=\"Open In Colab\"/></a>"
      ]
    },
    {
      "cell_type": "markdown",
      "metadata": {
        "id": "haKFa3MPP6Ju"
      },
      "source": [
        "# インプット"
      ]
    },
    {
      "cell_type": "code",
      "metadata": {
        "id": "g2bHly7CIMmC",
        "outputId": "baca7eb3-7ddd-451c-cace-43b14b864f49",
        "colab": {
          "base_uri": "https://localhost:8080/"
        }
      },
      "source": [
        "# ドライブのマウント\n",
        "from google.colab import drive\n",
        "drive.mount('/content/drive')"
      ],
      "execution_count": 230,
      "outputs": [
        {
          "output_type": "stream",
          "text": [
            "Drive already mounted at /content/drive; to attempt to forcibly remount, call drive.mount(\"/content/drive\", force_remount=True).\n"
          ],
          "name": "stdout"
        }
      ]
    },
    {
      "cell_type": "code",
      "metadata": {
        "id": "GLl6LwAOI689"
      },
      "source": [
        "# csvの読み込むためのモジュール\n",
        "import pandas as pd\n",
        "from pandas import DataFrame\n",
        "import numpy as np\n",
        "from tabulate import tabulate # pandasのdfをきれいに出力するためのモジュール"
      ],
      "execution_count": 231,
      "outputs": []
    },
    {
      "cell_type": "code",
      "metadata": {
        "id": "HbCduD4KrV0m",
        "outputId": "2c3e56ec-e149-4d7e-e58c-15dfb4bce764",
        "colab": {
          "base_uri": "https://localhost:8080/"
        }
      },
      "source": [
        "# ox_outputの読み込み\n",
        "\n",
        "solvedDf = pd.read_csv(\n",
        "    \"/content/drive/My Drive/ox/workspace/ox_output.csv\",\n",
        "    index_col=0, # 最初の１行はデータ名。\n",
        "    encoding=\"cp932\" # windowsの追加文字に対応。おまじないだと思えば良い。\n",
        "    )\n",
        "print(solvedDf)"
      ],
      "execution_count": 232,
      "outputs": [
        {
          "output_type": "stream",
          "text": [
            "       PREVIOUS_STATES STATE                       NEXT_STATES\n",
            "____              ['']  ____  ['o___', '_o__', '__o_', '___o']\n",
            "o___          ['____']  o___          ['ox__', 'o_x_', 'o__x']\n",
            "_o__          ['____']  _o__          ['xo__', '_ox_', '_o_x']\n",
            "__o_          ['____']  __o_          ['x_o_', '_xo_', '__ox']\n",
            "___o          ['____']  ___o          ['x__o', '_x_o', '__xo']\n",
            "ox__          ['o___']  ox__                  ['oxo_', 'ox_o']\n",
            "o_x_          ['o___']  o_x_                  ['oox_', 'o_xo']\n",
            "o__x          ['o___']  o__x                  ['oo_x', 'o_ox']\n",
            "xo__          ['_o__']  xo__                  ['xoo_', 'xo_o']\n",
            "_ox_          ['_o__']  _ox_                  ['oox_', '_oxo']\n",
            "_o_x          ['_o__']  _o_x                  ['oo_x', '_oox']\n",
            "x_o_          ['__o_']  x_o_                  ['xoo_', 'x_oo']\n",
            "_xo_          ['__o_']  _xo_                  ['oxo_', '_xoo']\n",
            "__ox          ['__o_']  __ox                  ['o_ox', '_oox']\n",
            "x__o          ['___o']  x__o                  ['xo_o', 'x_oo']\n",
            "_x_o          ['___o']  _x_o                  ['ox_o', '_xoo']\n",
            "__xo          ['___o']  __xo                  ['o_xo', '_oxo']\n",
            "oxo_  ['ox__', '_xo_']  oxo_                          ['oxox']\n",
            "ox_o  ['ox__', '_x_o']  ox_o                          ['oxxo']\n",
            "oox_  ['o_x_', '_ox_']  oox_                          ['ooxx']\n",
            "o_xo  ['o_x_', '__xo']  o_xo                          ['oxxo']\n",
            "oo_x  ['o__x', '_o_x']  oo_x                          ['ooxx']\n",
            "o_ox  ['o__x', '__ox']  o_ox                          ['oxox']\n",
            "xoo_  ['xo__', 'x_o_']  xoo_                          ['xoox']\n",
            "xo_o  ['xo__', 'x__o']  xo_o                          ['xoxo']\n",
            "_oxo  ['_ox_', '__xo']  _oxo                          ['xoxo']\n",
            "_oox  ['_o_x', '__ox']  _oox                          ['xoox']\n",
            "x_oo  ['x_o_', 'x__o']  x_oo                          ['xxoo']\n",
            "_xoo  ['_xo_', '_x_o']  _xoo                          ['xxoo']\n",
            "oxox  ['oxo_', 'o_ox']  oxox                                []\n",
            "oxxo  ['ox_o', 'o_xo']  oxxo                                []\n",
            "ooxx  ['oox_', 'oo_x']  ooxx                                []\n",
            "xoox  ['xoo_', '_oox']  xoox                                []\n",
            "xoxo  ['xo_o', '_oxo']  xoxo                                []\n",
            "xxoo  ['x_oo', '_xoo']  xxoo                                []\n"
          ],
          "name": "stdout"
        }
      ]
    },
    {
      "cell_type": "markdown",
      "metadata": {
        "id": "IUkeWGcNP-ky"
      },
      "source": [
        "# 処理"
      ]
    },
    {
      "cell_type": "markdown",
      "metadata": {
        "id": "cNsn1TjoQA5V"
      },
      "source": [
        "# 出力"
      ]
    },
    {
      "cell_type": "code",
      "metadata": {
        "id": "2CEigR_DP_W-"
      },
      "source": [
        "# solvedDfをox_outputという名前で書き出し\n",
        "solvedDf.to_csv('/content/drive/My Drive/ox/workspace/retrograde_analysis_output.csv')"
      ],
      "execution_count": 233,
      "outputs": []
    },
    {
      "cell_type": "code",
      "metadata": {
        "id": "RdsAPq6MQG87",
        "outputId": "575b6a47-9930-4e92-92a1-2e44b60dcbd7",
        "colab": {
          "base_uri": "https://localhost:8080/"
        }
      },
      "source": [
        "# ox_outputの確認\n",
        "\n",
        "solvedDf = pd.read_csv(\n",
        "    \"/content/drive/My Drive/ox/workspace/retrograde_analysis_output.csv\",\n",
        "    index_col=0, # 最初の１行はデータ名。\n",
        "    encoding=\"cp932\" # windowsの追加文字に対応。おまじないだと思えば良い。\n",
        "    )\n",
        "print(solvedDf)"
      ],
      "execution_count": 234,
      "outputs": [
        {
          "output_type": "stream",
          "text": [
            "       PREVIOUS_STATES STATE                       NEXT_STATES\n",
            "____              ['']  ____  ['o___', '_o__', '__o_', '___o']\n",
            "o___          ['____']  o___          ['ox__', 'o_x_', 'o__x']\n",
            "_o__          ['____']  _o__          ['xo__', '_ox_', '_o_x']\n",
            "__o_          ['____']  __o_          ['x_o_', '_xo_', '__ox']\n",
            "___o          ['____']  ___o          ['x__o', '_x_o', '__xo']\n",
            "ox__          ['o___']  ox__                  ['oxo_', 'ox_o']\n",
            "o_x_          ['o___']  o_x_                  ['oox_', 'o_xo']\n",
            "o__x          ['o___']  o__x                  ['oo_x', 'o_ox']\n",
            "xo__          ['_o__']  xo__                  ['xoo_', 'xo_o']\n",
            "_ox_          ['_o__']  _ox_                  ['oox_', '_oxo']\n",
            "_o_x          ['_o__']  _o_x                  ['oo_x', '_oox']\n",
            "x_o_          ['__o_']  x_o_                  ['xoo_', 'x_oo']\n",
            "_xo_          ['__o_']  _xo_                  ['oxo_', '_xoo']\n",
            "__ox          ['__o_']  __ox                  ['o_ox', '_oox']\n",
            "x__o          ['___o']  x__o                  ['xo_o', 'x_oo']\n",
            "_x_o          ['___o']  _x_o                  ['ox_o', '_xoo']\n",
            "__xo          ['___o']  __xo                  ['o_xo', '_oxo']\n",
            "oxo_  ['ox__', '_xo_']  oxo_                          ['oxox']\n",
            "ox_o  ['ox__', '_x_o']  ox_o                          ['oxxo']\n",
            "oox_  ['o_x_', '_ox_']  oox_                          ['ooxx']\n",
            "o_xo  ['o_x_', '__xo']  o_xo                          ['oxxo']\n",
            "oo_x  ['o__x', '_o_x']  oo_x                          ['ooxx']\n",
            "o_ox  ['o__x', '__ox']  o_ox                          ['oxox']\n",
            "xoo_  ['xo__', 'x_o_']  xoo_                          ['xoox']\n",
            "xo_o  ['xo__', 'x__o']  xo_o                          ['xoxo']\n",
            "_oxo  ['_ox_', '__xo']  _oxo                          ['xoxo']\n",
            "_oox  ['_o_x', '__ox']  _oox                          ['xoox']\n",
            "x_oo  ['x_o_', 'x__o']  x_oo                          ['xxoo']\n",
            "_xoo  ['_xo_', '_x_o']  _xoo                          ['xxoo']\n",
            "oxox  ['oxo_', 'o_ox']  oxox                                []\n",
            "oxxo  ['ox_o', 'o_xo']  oxxo                                []\n",
            "ooxx  ['oox_', 'oo_x']  ooxx                                []\n",
            "xoox  ['xoo_', '_oox']  xoox                                []\n",
            "xoxo  ['xo_o', '_oxo']  xoxo                                []\n",
            "xxoo  ['x_oo', '_xoo']  xxoo                                []\n"
          ],
          "name": "stdout"
        }
      ]
    }
  ]
}