{
  "nbformat": 4,
  "nbformat_minor": 0,
  "metadata": {
    "colab": {
      "name": "ox2x2.ipynb",
      "provenance": [],
      "collapsed_sections": [],
      "authorship_tag": "ABX9TyPUJvRZZHYi7vcW0aMpTX7U",
      "include_colab_link": true
    },
    "kernelspec": {
      "name": "python3",
      "display_name": "Python 3"
    }
  },
  "cells": [
    {
      "cell_type": "markdown",
      "metadata": {
        "id": "view-in-github",
        "colab_type": "text"
      },
      "source": [
        "<a href=\"https://colab.research.google.com/github/kentokura/ox_2x2_retrograde_analysis/blob/main/ox2x2.ipynb\" target=\"_parent\"><img src=\"https://colab.research.google.com/assets/colab-badge.svg\" alt=\"Open In Colab\"/></a>"
      ]
    },
    {
      "cell_type": "markdown",
      "metadata": {
        "id": "31sI6dOPdG9p"
      },
      "source": [
        "ノードの３状態:\n",
        "  - 未発見\n",
        "  - 未訪問\n",
        "  - 既訪問\n",
        "\n",
        "処理:\n",
        "- 初期状態\"____\"をunsolvedに追加する。 # unsolvedに積まれているノードは未訪問.\n",
        "- unsolvedが空になるまで以下を行う # BFS開始\n",
        "  1. unsolvedから先頭のノード(current_node)を抽出する。\n",
        "  1. 抽出したノード(current_node)をunsolvedから削除する。\n",
        "  1. ノード(current_node)から辿れる次のノード(next_nodes)全てを調べる。 # 探索\n",
        "    1. もし、next_nodeが未発見ならば # unsolved, solvedのいずれにもnext_nodeが存在しない\n",
        "      1. そのノードを未訪問にする。 # unsolvedに追加\n",
        "    1. そうではなく、発見済みならば\n",
        "      1. 探索しない。\n",
        "    1. next_node[previous_node]にcurrent_nodeを追加する。\n",
        "    1. current_node[next_node]にnext_nodeを追加する。\n",
        "  1. ノード（current_node）を既訪問にする。 # solvedに追加\n",
        "\n",
        "1. solvedをプリントする。"
      ]
    },
    {
      "cell_type": "markdown",
      "metadata": {
        "id": "haKFa3MPP6Ju"
      },
      "source": [
        "# インプット"
      ]
    },
    {
      "cell_type": "code",
      "metadata": {
        "id": "g2bHly7CIMmC",
        "outputId": "dfcb61ce-9c94-4e23-8bc9-88420c214bca",
        "colab": {
          "base_uri": "https://localhost:8080/"
        }
      },
      "source": [
        "# ドライブのマウント\n",
        "from google.colab import drive\n",
        "drive.mount('/content/drive')"
      ],
      "execution_count": null,
      "outputs": [
        {
          "output_type": "stream",
          "text": [
            "Drive already mounted at /content/drive; to attempt to forcibly remount, call drive.mount(\"/content/drive\", force_remount=True).\n"
          ],
          "name": "stdout"
        }
      ]
    },
    {
      "cell_type": "code",
      "metadata": {
        "id": "GLl6LwAOI689"
      },
      "source": [
        "# csvの読み込むためのモジュール\n",
        "import pandas as pd\n",
        "from pandas import DataFrame\n",
        "import numpy as np\n"
      ],
      "execution_count": null,
      "outputs": []
    },
    {
      "cell_type": "markdown",
      "metadata": {
        "id": "IUkeWGcNP-ky"
      },
      "source": [
        "# 処理"
      ]
    },
    {
      "cell_type": "code",
      "metadata": {
        "id": "XS6vuW3wQyvz"
      },
      "source": [
        "# state を入力すると、[次のstate]を出力する関数\n",
        "\n",
        "def nextStates(state: str) -> list: \n",
        "  next_states = [\"xxxxx\"]\n",
        "  if state == \"____\":\n",
        "    next_states = [\"o___\"]\n",
        "  elif state == \"o___\":\n",
        "    next_states = [\"ox__\", \"o__x\"]\n",
        "  elif state == \"ox__\":\n",
        "    next_states = [\"oxo_\", \"ox_o\"]\n",
        "  elif state == \"o__x\":\n",
        "    next_states = [\"oo_x\"]\n",
        "  elif state == \"oxo_\":\n",
        "    next_states = [\"oxox\"]\n",
        "  elif state == \"ox_o\":\n",
        "    next_states = [\"oxxo\"]\n",
        "  elif state == \"oo_x\":\n",
        "    next_states = [\"ooxx\"]\n",
        "  else:\n",
        "    next_states = [\"oooo\"]\n",
        "  return next_states\n",
        "\n",
        "# stateを入力すると、正規化したstateを返す関数\n"
      ],
      "execution_count": null,
      "outputs": []
    },
    {
      "cell_type": "code",
      "metadata": {
        "id": "QMG-kkSufZtu",
        "outputId": "51520236-f26d-4ee8-880a-c63205c518da",
        "colab": {
          "base_uri": "https://localhost:8080/"
        }
      },
      "source": [
        "# unsolvedDf, solvedDfの初期化\n",
        "print(\"===\")\n",
        "print(\"プログラム開始\")\n",
        "print(\"===\")\n",
        "print()\n",
        "print(\"データを初期化します\")\n",
        "cols = [\"PREVIOUS_STATES\", \"STATE\", \"NEXT_STATES\"] #[前の状態list， 状態, 次の状態list]\n",
        "df = pd.DataFrame(index=[], columns=cols)\n",
        "df.set_index(\"STATE\")\n",
        "unsolvedDf = df\n",
        "solvedDf = df\n",
        "print(\"データを初期化しました\")\n",
        "print()\n",
        "\n",
        "# 初期状態\"____\"をunsolvedに追加する。unsolvedに積まれているノードは未訪問.\n",
        "print(\"===\")\n",
        "print(\"BFSの準備\")\n",
        "print(\"===\")\n",
        "print()\n",
        "print(\"初期状態をセットします\")\n",
        "init_state = \"____\"\n",
        "previous_state = \"\"\n",
        "unsolvedDf = unsolvedDf.append(pd.Series([[previous_state], init_state, \"unsolved\"], index=df.columns, name=init_state))\n",
        "print(\"初期状態をセットしました\") # 確認\n",
        "print(\"確認[UNSOLVED_DF]:\") # 確認\n",
        "print(unsolvedDf) # 確認\n",
        "print() # 確認\n",
        "\n",
        "# unsolvedが空になるまで以下を行う. BFS開始\n",
        "print(\"===\")\n",
        "print(\"BFSを開始します\")\n",
        "print(\"===\")\n",
        "print()\n",
        "for _ in range(20): # while len(unsolvedDf) > 0: # 開発のためにfor文にしている。\n",
        "  # unsolvedDfから先頭のノードをpopする。\n",
        "  if len(unsolvedDf) <= 0:\n",
        "    break;\n",
        "  current_node = unsolvedDf.iloc[0]  # 先頭のノード(current_node)を抽出。\n",
        "  unsolvedDf.drop(unsolvedDf.index[0], inplace=True)  # 抽出したノードをunsolvedから削除。\n",
        "  # 先頭のノード(current_node)から次のノード(next_nodes)を探索する。\n",
        "  next_states = nextStates(current_node.STATE) # 次のノードの探索結果\n",
        "  current_node.NEXT_STATES = next_states # current_nodeのNEXT_STATESに探索結果を反映\n",
        "  # 探索した全ての状態について、以下を行う。\n",
        "  print(\"unsolvedDfからpopされたノード'{}'の探索を行います\".format(current_node.STATE))\n",
        "  for next_state in next_states:\n",
        "    # もし、next_nodeが未発見ならば # unsolved, solvedのいずれにもnext_nodeが存在しない\n",
        "    if (next_state not in unsolvedDf.STATE.values) and (next_state not in solvedDf.STATE.values):\n",
        "      if next_state == current_node.STATE: # 次のノードが自身と同一\n",
        "        continue;\n",
        "      print(\"    探索結果: 未発見のノード'{}'です\".format(next_state))\n",
        "      # T)そのノードを未訪問にする。 # unsolvedに追加\n",
        "      print(\"        unsolvedDfに追加します\")\n",
        "      print(\"        確認[unsolvedDf]\")\n",
        "      print(unsolvedDf)\n",
        "      previous_state = [current_node.STATE]\n",
        "      next_node = pd.Series([previous_state, next_state, \"unsolved\"], index=df.columns, name=next_state) # next_nodeの作成\n",
        "      unsolvedDf = unsolvedDf.append(next_node)\n",
        "      print(\"        unsolvedDfに追加しました\")\n",
        "      print(\"        確認[unsolvedDf]\")\n",
        "      print(unsolvedDf)\n",
        "      print()\n",
        "    else:  # F)そうではなく、発見済みならば\n",
        "      print(\"    探索結果: 発見済みのノード'{}'です\".format(next_state))\n",
        "      #これを既に登録されていたノードのprevious_stateに追加する。\n",
        "      previous_state = [current_node.STATE] \n",
        "      if next_state in unsolvedDf.STATE.values: # unsolvedDfに存在\n",
        "        print(\"        これはunsolvedに存在しています\")\n",
        "        # unsolvedDf[unsolvedDf.STATE.values == next_state])にprevious_stateを追加する\n",
        "        tmp = unsolvedDf.loc[next_state, \"PREVIOUS_STATES\"]\n",
        "        tmp.append(previous_state[0])       \n",
        "        unsolvedDf.loc[next_state, \"PREVIOUS_STATES\"] = tmp\n",
        "      elif next_state in solvedDf.STATE.values:# solveDfに存在\n",
        "        print(\"        これはsolvedに存在しています\")\n",
        "        # solvedDf[solvedDf.STATE.values == next_state])にprevious_stateを追加する\n",
        "        tmp = solvedDf.loc[next_state, \"PREVIOUS_STATES\"]\n",
        "        tmp.append(previous_state[0])       \n",
        "        solvedDf.loc[next_state, \"PREVIOUS_STATES\"] = tmp\n",
        "      else: # 何らかの理由で漏れた状態\n",
        "        print(\"        エラー\")\n",
        "  # 現在のノード（current_node）をsolvedDfに追加する。solvedDfのノードは既訪問。 \n",
        "  solvedDf = solvedDf.append(current_node)\n",
        "print()\n",
        "print(\"BFSが終了しました\")\n",
        "print()\n",
        "# 結果確認\n",
        "print(\"===\")\n",
        "print(\"結果確認\")\n",
        "print(\"===\")\n",
        "print()\n",
        "print(\"確認[unsolvedDf]:\")\n",
        "print(unsolvedDf)\n",
        "print()\n",
        "print(\"確認[solvedDf]:\")\n",
        "print(solvedDf)\n",
        "print()"
      ],
      "execution_count": null,
      "outputs": [
        {
          "output_type": "stream",
          "text": [
            "===\n",
            "プログラム開始\n",
            "===\n",
            "\n",
            "データを初期化します\n",
            "データを初期化しました\n",
            "\n",
            "===\n",
            "BFSの準備\n",
            "===\n",
            "\n",
            "初期状態をセットします\n",
            "初期状態をセットしました\n",
            "確認[UNSOLVED_DF]:\n",
            "     PREVIOUS_STATES STATE NEXT_STATES\n",
            "____              []  ____    unsolved\n",
            "\n",
            "===\n",
            "BFSを開始します\n",
            "===\n",
            "\n",
            "unsolvedDfからpopされたノード'____'の探索を行います\n",
            "    探索結果: 未発見のノード'o___'です\n",
            "        unsolvedDfに追加します\n",
            "        確認[unsolvedDf]\n",
            "Empty DataFrame\n",
            "Columns: [PREVIOUS_STATES, STATE, NEXT_STATES]\n",
            "Index: []\n",
            "        unsolvedDfに追加しました\n",
            "        確認[unsolvedDf]\n",
            "     PREVIOUS_STATES STATE NEXT_STATES\n",
            "o___          [____]  o___    unsolved\n",
            "\n",
            "unsolvedDfからpopされたノード'o___'の探索を行います\n",
            "    探索結果: 未発見のノード'ox__'です\n",
            "        unsolvedDfに追加します\n",
            "        確認[unsolvedDf]\n",
            "Empty DataFrame\n",
            "Columns: [PREVIOUS_STATES, STATE, NEXT_STATES]\n",
            "Index: []\n",
            "        unsolvedDfに追加しました\n",
            "        確認[unsolvedDf]\n",
            "     PREVIOUS_STATES STATE NEXT_STATES\n",
            "ox__          [o___]  ox__    unsolved\n",
            "\n",
            "    探索結果: 未発見のノード'o__x'です\n",
            "        unsolvedDfに追加します\n",
            "        確認[unsolvedDf]\n",
            "     PREVIOUS_STATES STATE NEXT_STATES\n",
            "ox__          [o___]  ox__    unsolved\n",
            "        unsolvedDfに追加しました\n",
            "        確認[unsolvedDf]\n",
            "     PREVIOUS_STATES STATE NEXT_STATES\n",
            "ox__          [o___]  ox__    unsolved\n",
            "o__x          [o___]  o__x    unsolved\n",
            "\n",
            "unsolvedDfからpopされたノード'ox__'の探索を行います\n",
            "    探索結果: 未発見のノード'oxo_'です\n",
            "        unsolvedDfに追加します\n",
            "        確認[unsolvedDf]\n",
            "     PREVIOUS_STATES STATE NEXT_STATES\n",
            "o__x          [o___]  o__x    unsolved\n",
            "        unsolvedDfに追加しました\n",
            "        確認[unsolvedDf]\n",
            "     PREVIOUS_STATES STATE NEXT_STATES\n",
            "o__x          [o___]  o__x    unsolved\n",
            "oxo_          [ox__]  oxo_    unsolved\n",
            "\n",
            "    探索結果: 未発見のノード'ox_o'です\n",
            "        unsolvedDfに追加します\n",
            "        確認[unsolvedDf]\n",
            "     PREVIOUS_STATES STATE NEXT_STATES\n",
            "o__x          [o___]  o__x    unsolved\n",
            "oxo_          [ox__]  oxo_    unsolved\n",
            "        unsolvedDfに追加しました\n",
            "        確認[unsolvedDf]\n",
            "     PREVIOUS_STATES STATE NEXT_STATES\n",
            "o__x          [o___]  o__x    unsolved\n",
            "oxo_          [ox__]  oxo_    unsolved\n",
            "ox_o          [ox__]  ox_o    unsolved\n",
            "\n",
            "unsolvedDfからpopされたノード'o__x'の探索を行います\n",
            "    探索結果: 未発見のノード'oo_x'です\n",
            "        unsolvedDfに追加します\n",
            "        確認[unsolvedDf]\n",
            "     PREVIOUS_STATES STATE NEXT_STATES\n",
            "oxo_          [ox__]  oxo_    unsolved\n",
            "ox_o          [ox__]  ox_o    unsolved\n",
            "        unsolvedDfに追加しました\n",
            "        確認[unsolvedDf]\n",
            "     PREVIOUS_STATES STATE NEXT_STATES\n",
            "oxo_          [ox__]  oxo_    unsolved\n",
            "ox_o          [ox__]  ox_o    unsolved\n",
            "oo_x          [o__x]  oo_x    unsolved\n",
            "\n",
            "unsolvedDfからpopされたノード'oxo_'の探索を行います\n",
            "    探索結果: 未発見のノード'oxox'です\n",
            "        unsolvedDfに追加します\n",
            "        確認[unsolvedDf]\n",
            "     PREVIOUS_STATES STATE NEXT_STATES\n",
            "ox_o          [ox__]  ox_o    unsolved\n",
            "oo_x          [o__x]  oo_x    unsolved\n",
            "        unsolvedDfに追加しました\n",
            "        確認[unsolvedDf]\n",
            "     PREVIOUS_STATES STATE NEXT_STATES\n",
            "ox_o          [ox__]  ox_o    unsolved\n",
            "oo_x          [o__x]  oo_x    unsolved\n",
            "oxox          [oxo_]  oxox    unsolved\n",
            "\n",
            "unsolvedDfからpopされたノード'ox_o'の探索を行います\n",
            "    探索結果: 未発見のノード'oxxo'です\n",
            "        unsolvedDfに追加します\n",
            "        確認[unsolvedDf]\n",
            "     PREVIOUS_STATES STATE NEXT_STATES\n",
            "oo_x          [o__x]  oo_x    unsolved\n",
            "oxox          [oxo_]  oxox    unsolved\n",
            "        unsolvedDfに追加しました\n",
            "        確認[unsolvedDf]\n",
            "     PREVIOUS_STATES STATE NEXT_STATES\n",
            "oo_x          [o__x]  oo_x    unsolved\n",
            "oxox          [oxo_]  oxox    unsolved\n",
            "oxxo          [ox_o]  oxxo    unsolved\n",
            "\n",
            "unsolvedDfからpopされたノード'oo_x'の探索を行います\n",
            "    探索結果: 未発見のノード'ooxx'です\n",
            "        unsolvedDfに追加します\n",
            "        確認[unsolvedDf]\n",
            "     PREVIOUS_STATES STATE NEXT_STATES\n",
            "oxox          [oxo_]  oxox    unsolved\n",
            "oxxo          [ox_o]  oxxo    unsolved\n",
            "        unsolvedDfに追加しました\n",
            "        確認[unsolvedDf]\n",
            "     PREVIOUS_STATES STATE NEXT_STATES\n",
            "oxox          [oxo_]  oxox    unsolved\n",
            "oxxo          [ox_o]  oxxo    unsolved\n",
            "ooxx          [oo_x]  ooxx    unsolved\n",
            "\n",
            "unsolvedDfからpopされたノード'oxox'の探索を行います\n",
            "    探索結果: 未発見のノード'oooo'です\n",
            "        unsolvedDfに追加します\n",
            "        確認[unsolvedDf]\n",
            "     PREVIOUS_STATES STATE NEXT_STATES\n",
            "oxxo          [ox_o]  oxxo    unsolved\n",
            "ooxx          [oo_x]  ooxx    unsolved\n",
            "        unsolvedDfに追加しました\n",
            "        確認[unsolvedDf]\n",
            "     PREVIOUS_STATES STATE NEXT_STATES\n",
            "oxxo          [ox_o]  oxxo    unsolved\n",
            "ooxx          [oo_x]  ooxx    unsolved\n",
            "oooo          [oxox]  oooo    unsolved\n",
            "\n",
            "unsolvedDfからpopされたノード'oxxo'の探索を行います\n",
            "    探索結果: 発見済みのノード'oooo'です\n",
            "        これはunsolvedに存在しています\n",
            "unsolvedDfからpopされたノード'ooxx'の探索を行います\n",
            "    探索結果: 発見済みのノード'oooo'です\n",
            "        これはunsolvedに存在しています\n",
            "unsolvedDfからpopされたノード'oooo'の探索を行います\n",
            "\n",
            "BFSが終了しました\n",
            "\n",
            "===\n",
            "結果確認\n",
            "===\n",
            "\n",
            "確認[unsolvedDf]:\n",
            "Empty DataFrame\n",
            "Columns: [PREVIOUS_STATES, STATE, NEXT_STATES]\n",
            "Index: []\n",
            "\n",
            "確認[solvedDf]:\n",
            "         PREVIOUS_STATES STATE   NEXT_STATES\n",
            "____                  []  ____        [o___]\n",
            "o___              [____]  o___  [ox__, o__x]\n",
            "ox__              [o___]  ox__  [oxo_, ox_o]\n",
            "o__x              [o___]  o__x        [oo_x]\n",
            "oxo_              [ox__]  oxo_        [oxox]\n",
            "ox_o              [ox__]  ox_o        [oxxo]\n",
            "oo_x              [o__x]  oo_x        [ooxx]\n",
            "oxox              [oxo_]  oxox        [oooo]\n",
            "oxxo              [ox_o]  oxxo        [oooo]\n",
            "ooxx              [oo_x]  ooxx        [oooo]\n",
            "oooo  [oxox, oxxo, ooxx]  oooo        [oooo]\n",
            "\n"
          ],
          "name": "stdout"
        }
      ]
    },
    {
      "cell_type": "markdown",
      "metadata": {
        "id": "cNsn1TjoQA5V"
      },
      "source": [
        "# 出力"
      ]
    },
    {
      "cell_type": "code",
      "metadata": {
        "id": "2CEigR_DP_W-"
      },
      "source": [
        "# solvedDfをox_outputという名前で書き出し\n",
        "solvedDf.to_csv('/content/drive/My Drive/ox/workspace/ox_output.csv')"
      ],
      "execution_count": null,
      "outputs": []
    },
    {
      "cell_type": "code",
      "metadata": {
        "id": "RdsAPq6MQG87",
        "outputId": "e457a6a9-d2b2-4333-fe4c-1aa7d2652893",
        "colab": {
          "base_uri": "https://localhost:8080/"
        }
      },
      "source": [
        "# ox_outputの確認\n",
        "\n",
        "solvedDf = pd.read_csv(\n",
        "    \"/content/drive/My Drive/ox/workspace/ox_output.csv\",\n",
        "    index_col=0, # 最初の１行はデータ名。\n",
        "    encoding=\"cp932\" # windowsの追加文字に対応。おまじないだと思えば良い。\n",
        "    )\n",
        "\n",
        "print(solvedDf)"
      ],
      "execution_count": null,
      "outputs": [
        {
          "output_type": "stream",
          "text": [
            "               PREVIOUS_STATES STATE       NEXT_STATES\n",
            "____                      ['']  ____          ['o___']\n",
            "o___                  ['____']  o___  ['ox__', 'o__x']\n",
            "ox__                  ['o___']  ox__  ['oxo_', 'ox_o']\n",
            "o__x                  ['o___']  o__x          ['oo_x']\n",
            "oxo_                  ['ox__']  oxo_          ['oxox']\n",
            "ox_o                  ['ox__']  ox_o          ['oxxo']\n",
            "oo_x                  ['o__x']  oo_x          ['ooxx']\n",
            "oxox                  ['oxo_']  oxox          ['oooo']\n",
            "oxxo                  ['ox_o']  oxxo          ['oooo']\n",
            "ooxx                  ['oo_x']  ooxx          ['oooo']\n",
            "oooo  ['oxox', 'oxxo', 'ooxx']  oooo          ['oooo']\n"
          ],
          "name": "stdout"
        }
      ]
    },
    {
      "cell_type": "markdown",
      "metadata": {
        "id": "zo2EywwSQqZ7"
      },
      "source": [
        "計画\n",
        "\n",
        "- [x] 入力、処理、出力の雛形作成\n",
        "- [x] ２ｘ２のoxゲームを実装\n",
        "\n",
        "## 2x2\n",
        "\n",
        "- 探索しよう。\n",
        "初期状態とルールか。\n",
        "- 状態をぶちこむと、次の状態を返す関数。\n",
        "- 次の状態からｄｆを適切に変更。"
      ]
    },
    {
      "cell_type": "code",
      "metadata": {
        "id": "ZdYXvoBQODj0",
        "outputId": "3b3e915f-5bd1-4dd0-e67a-ea2604163f2a",
        "colab": {
          "base_uri": "https://localhost:8080/"
        }
      },
      "source": [
        "# nodeの勝ち負け判定に使う。\n",
        "# csvの読み込み\n",
        "df = pd.read_csv(\n",
        "    \"/content/drive/My Drive/ox/workspace/ox.csv\",\n",
        "    index_col=0, # 最初の１行はデータ名。\n",
        "    encoding=\"cp932\" # windowsの追加文字に対応。おまじないだと思えば良い。\n",
        "    )\n",
        "print(df)\n",
        "# print(df.query(\"id==0\").to_numpy(copy=True).flatten())"
      ],
      "execution_count": null,
      "outputs": [
        {
          "output_type": "stream",
          "text": [
            "    front_id  next_id    state\n",
            "id                            \n",
            "0        NaN        1  _,_,_,_\n"
          ],
          "name": "stdout"
        }
      ]
    }
  ]
}