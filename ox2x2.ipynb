{
  "nbformat": 4,
  "nbformat_minor": 0,
  "metadata": {
    "colab": {
      "name": "ox2x2.ipynb",
      "provenance": [],
      "collapsed_sections": [],
      "authorship_tag": "ABX9TyNY9h32RtIqhErCgDC8c4Rg",
      "include_colab_link": true
    },
    "kernelspec": {
      "name": "python3",
      "display_name": "Python 3"
    }
  },
  "cells": [
    {
      "cell_type": "markdown",
      "metadata": {
        "id": "view-in-github",
        "colab_type": "text"
      },
      "source": [
        "<a href=\"https://colab.research.google.com/github/kentokura/ox_2x2_retrograde_analysis/blob/main/ox2x2.ipynb\" target=\"_parent\"><img src=\"https://colab.research.google.com/assets/colab-badge.svg\" alt=\"Open In Colab\"/></a>"
      ]
    },
    {
      "cell_type": "markdown",
      "metadata": {
        "id": "31sI6dOPdG9p"
      },
      "source": [
        "ノードの３状態:\n",
        "  - 未発見\n",
        "  - 未訪問\n",
        "  - 既訪問\n",
        "\n",
        "処理:\n",
        "- 初期状態\"____\"をunsolvedに追加する。 # unsolvedに積まれているノードは未訪問.\n",
        "- unsolvedが空になるまで以下を行う # BFS開始\n",
        "  1. unsolvedから先頭のノード(current_node)を抽出する。\n",
        "  1. 抽出したノード(current_node)をunsolvedから削除する。\n",
        "  1. ノード(current_node)から辿れる次のノード(next_nodes)全てを調べる。 # 探索\n",
        "    1. もし、next_nodeが未発見ならば # unsolved, solvedのいずれにもnext_nodeが存在しない\n",
        "      1. そのノードを未訪問にする。 # unsolvedに追加\n",
        "    1. そうではなく、発見済みならば\n",
        "      1. 探索しない。\n",
        "    1. next_node[previous_node]にcurrent_nodeを追加する。\n",
        "    1. current_node[next_node]にnext_nodeを追加する。\n",
        "  1. ノード（current_node）を既訪問にする。 # solvedに追加\n",
        "\n",
        "1. solvedをプリントする。"
      ]
    },
    {
      "cell_type": "markdown",
      "metadata": {
        "id": "haKFa3MPP6Ju"
      },
      "source": [
        "# インプット"
      ]
    },
    {
      "cell_type": "code",
      "metadata": {
        "id": "g2bHly7CIMmC",
        "outputId": "dfcb61ce-9c94-4e23-8bc9-88420c214bca",
        "colab": {
          "base_uri": "https://localhost:8080/"
        }
      },
      "source": [
        "# ドライブのマウント\n",
        "from google.colab import drive\n",
        "drive.mount('/content/drive')"
      ],
      "execution_count": null,
      "outputs": [
        {
          "output_type": "stream",
          "text": [
            "Drive already mounted at /content/drive; to attempt to forcibly remount, call drive.mount(\"/content/drive\", force_remount=True).\n"
          ],
          "name": "stdout"
        }
      ]
    },
    {
      "cell_type": "code",
      "metadata": {
        "id": "GLl6LwAOI689"
      },
      "source": [
        "# csvの読み込むためのモジュール\n",
        "import pandas as pd\n",
        "from pandas import DataFrame\n",
        "import numpy as np\n",
        "from tabulate import tabulate # pandasのdfをきれいに出力するためのモジュール"
      ],
      "execution_count": 212,
      "outputs": []
    },
    {
      "cell_type": "markdown",
      "metadata": {
        "id": "IUkeWGcNP-ky"
      },
      "source": [
        "# 処理"
      ]
    },
    {
      "cell_type": "code",
      "metadata": {
        "id": "XS6vuW3wQyvz"
      },
      "source": [
        "# state を入力すると、次のstateのリストを出力する関数\n",
        "\n",
        "def nextStates(state: str) -> list: \n",
        "  next_states = []\n",
        "  player = \"_\"\n",
        "  if state.count('o') <= state.count('x'):\n",
        "    player = \"o\"\n",
        "  else:\n",
        "    player = \"x\"\n",
        "  # next_nodeの作成\n",
        "  for i, piece in enumerate(state):\n",
        "    if piece == \"_\":\n",
        "      next_state = list(state)\n",
        "      next_state[i] = player\n",
        "      next_states.append(''.join(next_state))\n",
        "      # print(next_states)\n",
        "  return next_states\n",
        "\n",
        "\n",
        "# テスト\n",
        "state = \"ooo_\"\n",
        "nextStates(state)\n",
        "\n",
        "# stateを入力すると、正規化したstateを返す関数\n",
        "def normalization(state: str) -> str: \n",
        "    normalization_state = state\n",
        "    if state in [\"o___\", \"_o__\", \"__o_\", \"___o\"]:\n",
        "      normalization_state = \"o___\"\n",
        "    elif state ==  [\"ox__\", \"o_x_\", \"_o_x\", \"xo__\", \"_x_o\", \"__xo\", \"x_o_\", \"__ox\"]:\n",
        "      normalization_state =\"ox__\"\n",
        "    elif state ==  [\"o__x\", \"_ox_\", \"x_o_\", \"_x_o\"]:\n",
        "      normalization_state = \"o__x\"\n",
        "    elif state ==  [\"x_oo\", \"xo_o\", \"oxo_\", \"_xoo\", \"oox_\", \"_oxo\", \"oo_x\", \"o_ox\"]:\n",
        "      normalization_state = \"oxo_\"\n",
        "    elif state ==  [\"xoo_\", \"ox_o\", \"o_xo\", \"_oox\"]:\n",
        "      normalization_state = \"ox_o\"\n",
        "    elif state ==  [\"oxox\", \"xxoo\", \"xoxo\", \"ooxx\"]:\n",
        "      normalization_state = \"oxox\"\n",
        "    elif state ==  [\"oxxo\", \"xoox\"]:\n",
        "      normalization_state = \"oxxo\"\n",
        "\n",
        "    return normalization_state\n"
      ],
      "execution_count": 201,
      "outputs": []
    },
    {
      "cell_type": "code",
      "metadata": {
        "id": "QMG-kkSufZtu",
        "outputId": "66108e63-c0be-4b60-b407-6c1d238f6d71",
        "colab": {
          "base_uri": "https://localhost:8080/"
        }
      },
      "source": [
        "### BFSでゲーム木を作成するプログラム ### \n",
        "\n",
        "###\n",
        "\n",
        "### 関数群ここから ###\n",
        "\n",
        "# state を入力すると、次のstateのリストを出力する関数\n",
        "\n",
        "def nextStates(state: str) -> list: \n",
        "  next_states = []\n",
        "  player = \"_\"\n",
        "  if state.count('o') <= state.count('x'):\n",
        "    player = \"o\"\n",
        "  else:\n",
        "    player = \"x\"\n",
        "  # next_nodeの作成\n",
        "  for i, piece in enumerate(state):\n",
        "    if piece == \"_\":\n",
        "      next_state = list(state)\n",
        "      next_state[i] = player\n",
        "      next_states.append(''.join(next_state))\n",
        "      # print(next_states)\n",
        "  return next_states\n",
        "\n",
        "# stateを入力すると、正規化したstateを返す関数\n",
        "def normalization(state: str) -> str: \n",
        "    normalization_state = state\n",
        "    if state in [\"o___\", \"_o__\", \"__o_\", \"___o\"]:\n",
        "      normalization_state = \"o___\"\n",
        "    elif state ==  [\"ox__\", \"o_x_\", \"_o_x\", \"xo__\", \"_x_o\", \"__xo\", \"x_o_\", \"__ox\"]:\n",
        "      normalization_state =\"ox__\"\n",
        "    elif state ==  [\"o__x\", \"_ox_\", \"x_o_\", \"_x_o\"]:\n",
        "      normalization_state = \"o__x\"\n",
        "    elif state ==  [\"x_oo\", \"xo_o\", \"oxo_\", \"_xoo\", \"oox_\", \"_oxo\", \"oo_x\", \"o_ox\"]:\n",
        "      normalization_state = \"oxo_\"\n",
        "    elif state ==  [\"xoo_\", \"ox_o\", \"o_xo\", \"_oox\"]:\n",
        "      normalization_state = \"ox_o\"\n",
        "    elif state ==  [\"oxox\", \"xxoo\", \"xoxo\", \"ooxx\"]:\n",
        "      normalization_state = \"oxox\"\n",
        "    elif state ==  [\"oxxo\", \"xoox\"]:\n",
        "      normalization_state = \"oxxo\"\n",
        "\n",
        "    return normalization_state\n",
        "\n",
        "### 関数群ここまで\n",
        "\n",
        "### 設定ここから ###\n",
        "printFlag = False\n",
        "\n",
        "### 設定ここまで ###\n",
        "\n",
        "###mainここから\n",
        "\n",
        "# unsolvedDf, solvedDfの初期化\n",
        "if printFlag:\n",
        "  print(\"===\")\n",
        "  print(\"プログラム開始\")\n",
        "  print(\"===\")\n",
        "  print()\n",
        "  print(\"データを初期化します\")\n",
        "cols = [\"PREVIOUS_STATES\", \"STATE\", \"NEXT_STATES\"] #[前の状態list， 状態, 次の状態list]\n",
        "df = pd.DataFrame(index=[], columns=cols)\n",
        "df.set_index(\"STATE\")\n",
        "unsolvedDf = df\n",
        "solvedDf = df\n",
        "if printFlag:\n",
        "  print(\"データを初期化しました\")\n",
        "  print()\n",
        "\n",
        "# 初期状態\"____\"をunsolvedに追加する。unsolvedに積まれているノードは未訪問.\n",
        "if printFlag:\n",
        "  print(\"===\")\n",
        "  print(\"BFSの準備\")\n",
        "  print(\"===\")\n",
        "  print()\n",
        "  print(\"初期状態をセットします\")\n",
        "init_state = \"____\"\n",
        "previous_state = \"\"\n",
        "unsolvedDf = unsolvedDf.append(pd.Series([[previous_state], init_state, \"unsolved\"], index=df.columns, name=init_state))\n",
        "if printFlag:\n",
        "  print(\"初期状態をセットしました\") # 確認\n",
        "  print(\"確認[UNSOLVED_DF]:\") # 確認\n",
        "  print(unsolvedDf) # 確認\n",
        "  print() # 確認\n",
        "\n",
        "# unsolvedが空になるまで以下を行う. BFS開始\n",
        "if printFlag:\n",
        "  print(\"===\")\n",
        "  print(\"BFSを開始します\")\n",
        "  print(\"===\")\n",
        "  print()\n",
        "for _ in range(1000): # while len(unsolvedDf) > 0: # 開発のためにfor文にしている。\n",
        "  # unsolvedDfから先頭のノードをpopする。\n",
        "  if len(unsolvedDf) <= 0:\n",
        "    break;\n",
        "  current_node = unsolvedDf.iloc[0]  # 先頭のノード(current_node)を抽出。\n",
        "  unsolvedDf.drop(unsolvedDf.index[0], inplace=True)  # 抽出したノードをunsolvedから削除。\n",
        "  # 先頭のノード(current_node)から次のノード(next_nodes)を探索する。\n",
        "  next_states = nextStates(current_node.STATE) # 次のノードの探索結果\n",
        "  current_node.NEXT_STATES = next_states # current_nodeのNEXT_STATESに探索結果を反映\n",
        "  # 探索した全ての状態について、以下を行う。\n",
        "  if printFlag:\n",
        "    print(\"unsolvedDfからpopされたノード'{}'の探索を行います\".format(current_node.STATE))\n",
        "  if len(next_states) <= 0:\n",
        "    if printFlag:\n",
        "      print(\"    探索結果: このノードは末端です\")\n",
        "  for next_state in next_states:\n",
        "    # もし、next_nodeが未発見ならば # unsolved, solvedのいずれにもnext_nodeが存在しない\n",
        "    if (next_state not in unsolvedDf.STATE.values) and (next_state not in solvedDf.STATE.values):\n",
        "      if next_state == current_node.STATE: # 次のノードが自身と同一\n",
        "        if printFlag:\n",
        "          print(\"探索結果: 自身のノード'{}'と同一です\".format(next_state))\n",
        "        continue;\n",
        "      else:\n",
        "        if printFlag:\n",
        "          print(\"    探索結果: 未発見のノード'{}'です\".format(next_state))\n",
        "        # T)そのノードを未訪問にする。 # unsolvedに追加\n",
        "        previous_state = [current_node.STATE]\n",
        "        next_node = pd.Series([previous_state, next_state, \"unsolved\"], index=df.columns, name=next_state) # next_nodeの作成\n",
        "        unsolvedDf = unsolvedDf.append(next_node)\n",
        "    else:  # F)そうではなく、発見済みならば\n",
        "      if printFlag:\n",
        "        print(\"    探索結果: 発見済みのノード'{}'です\".format(next_state))\n",
        "      #これを既に登録されていたノードのprevious_stateに追加する。\n",
        "      previous_state = [current_node.STATE] \n",
        "      if next_state in unsolvedDf.STATE.values: # unsolvedDfに存在\n",
        "        if printFlag:\n",
        "          print(\"        これはunsolvedに存在しています\")\n",
        "        # unsolvedDf[unsolvedDf.STATE.values == next_state])にprevious_stateを追加する\n",
        "        tmp = unsolvedDf.loc[next_state, \"PREVIOUS_STATES\"]\n",
        "        tmp.append(previous_state[0])       \n",
        "        unsolvedDf.loc[next_state, \"PREVIOUS_STATES\"] = tmp\n",
        "      elif next_state in solvedDf.STATE.values:# solveDfに存在\n",
        "        if printFlag:\n",
        "          print(\"        これはsolvedに存在しています\")\n",
        "        # solvedDf[solvedDf.STATE.values == next_state])にprevious_stateを追加する\n",
        "        tmp = solvedDf.loc[next_state, \"PREVIOUS_STATES\"]\n",
        "        tmp.append(previous_state[0])       \n",
        "        solvedDf.loc[next_state, \"PREVIOUS_STATES\"] = tmp\n",
        "      else: # 何らかの理由で漏れた状態\n",
        "        print(\"        エラー\")\n",
        "  # 現在のノード（current_node）をsolvedDfに追加する。solvedDfのノードは既訪問。 \n",
        "  solvedDf = solvedDf.append(current_node)\n",
        "if printFlag:\n",
        "  print()\n",
        "  print(\"BFSが終了しました\")\n",
        "  print()\n",
        "\n",
        "# 結果確認\n",
        "print(\"===\")\n",
        "print(\"結果確認\")\n",
        "print(\"===\")\n",
        "print()\n",
        "print(\"確認[unsolvedDf]:\")\n",
        "print(tabulate(unsolvedDf, unsolvedDf.columns,tablefmt='github', showindex=True))\n",
        "print()\n",
        "print(\"確認[solvedDf]:\")\n",
        "print(tabulate(solvedDf, solvedDf.columns,tablefmt='github', showindex=True))\n",
        "print()\n",
        "\n",
        "\n",
        "### mainここまで"
      ],
      "execution_count": 219,
      "outputs": [
        {
          "output_type": "stream",
          "text": [
            "===\n",
            "結果確認\n",
            "===\n",
            "\n",
            "確認[unsolvedDf]:\n",
            "| PREVIOUS_STATES   | STATE   | NEXT_STATES   |\n",
            "|-------------------|---------|---------------|\n",
            "\n",
            "確認[solvedDf]:\n",
            "|      | PREVIOUS_STATES   | STATE   | NEXT_STATES                      |\n",
            "|------|-------------------|---------|----------------------------------|\n",
            "| ____ | ['']              | ____    | ['o___', '_o__', '__o_', '___o'] |\n",
            "| o___ | ['____']          | o___    | ['ox__', 'o_x_', 'o__x']         |\n",
            "| _o__ | ['____']          | _o__    | ['xo__', '_ox_', '_o_x']         |\n",
            "| __o_ | ['____']          | __o_    | ['x_o_', '_xo_', '__ox']         |\n",
            "| ___o | ['____']          | ___o    | ['x__o', '_x_o', '__xo']         |\n",
            "| ox__ | ['o___']          | ox__    | ['oxo_', 'ox_o']                 |\n",
            "| o_x_ | ['o___']          | o_x_    | ['oox_', 'o_xo']                 |\n",
            "| o__x | ['o___']          | o__x    | ['oo_x', 'o_ox']                 |\n",
            "| xo__ | ['_o__']          | xo__    | ['xoo_', 'xo_o']                 |\n",
            "| _ox_ | ['_o__']          | _ox_    | ['oox_', '_oxo']                 |\n",
            "| _o_x | ['_o__']          | _o_x    | ['oo_x', '_oox']                 |\n",
            "| x_o_ | ['__o_']          | x_o_    | ['xoo_', 'x_oo']                 |\n",
            "| _xo_ | ['__o_']          | _xo_    | ['oxo_', '_xoo']                 |\n",
            "| __ox | ['__o_']          | __ox    | ['o_ox', '_oox']                 |\n",
            "| x__o | ['___o']          | x__o    | ['xo_o', 'x_oo']                 |\n",
            "| _x_o | ['___o']          | _x_o    | ['ox_o', '_xoo']                 |\n",
            "| __xo | ['___o']          | __xo    | ['o_xo', '_oxo']                 |\n",
            "| oxo_ | ['ox__', '_xo_']  | oxo_    | ['oxox']                         |\n",
            "| ox_o | ['ox__', '_x_o']  | ox_o    | ['oxxo']                         |\n",
            "| oox_ | ['o_x_', '_ox_']  | oox_    | ['ooxx']                         |\n",
            "| o_xo | ['o_x_', '__xo']  | o_xo    | ['oxxo']                         |\n",
            "| oo_x | ['o__x', '_o_x']  | oo_x    | ['ooxx']                         |\n",
            "| o_ox | ['o__x', '__ox']  | o_ox    | ['oxox']                         |\n",
            "| xoo_ | ['xo__', 'x_o_']  | xoo_    | ['xoox']                         |\n",
            "| xo_o | ['xo__', 'x__o']  | xo_o    | ['xoxo']                         |\n",
            "| _oxo | ['_ox_', '__xo']  | _oxo    | ['xoxo']                         |\n",
            "| _oox | ['_o_x', '__ox']  | _oox    | ['xoox']                         |\n",
            "| x_oo | ['x_o_', 'x__o']  | x_oo    | ['xxoo']                         |\n",
            "| _xoo | ['_xo_', '_x_o']  | _xoo    | ['xxoo']                         |\n",
            "| oxox | ['oxo_', 'o_ox']  | oxox    | []                               |\n",
            "| oxxo | ['ox_o', 'o_xo']  | oxxo    | []                               |\n",
            "| ooxx | ['oox_', 'oo_x']  | ooxx    | []                               |\n",
            "| xoox | ['xoo_', '_oox']  | xoox    | []                               |\n",
            "| xoxo | ['xo_o', '_oxo']  | xoxo    | []                               |\n",
            "| xxoo | ['x_oo', '_xoo']  | xxoo    | []                               |\n",
            "\n"
          ],
          "name": "stdout"
        }
      ]
    },
    {
      "cell_type": "markdown",
      "metadata": {
        "id": "q42ll3WPfeDh"
      },
      "source": [
        "### 出力結果\n",
        "\n",
        "|      | PREVIOUS_STATES   | STATE   | NEXT_STATES                      |\n",
        "|------|-------------------|---------|----------------------------------|\n",
        "| ____ | ['']              | ____    | ['o___', '_o__', '__o_', '___o'] |\n",
        "| o___ | ['____']          | o___    | ['ox__', 'o_x_', 'o__x']         |\n",
        "| _o__ | ['____']          | _o__    | ['xo__', '_ox_', '_o_x']         |\n",
        "| __o_ | ['____']          | __o_    | ['x_o_', '_xo_', '__ox']         |\n",
        "| ___o | ['____']          | ___o    | ['x__o', '_x_o', '__xo']         |\n",
        "| ox__ | ['o___']          | ox__    | ['oxo_', 'ox_o']                 |\n",
        "| o_x_ | ['o___']          | o_x_    | ['oox_', 'o_xo']                 |\n",
        "| o__x | ['o___']          | o__x    | ['oo_x', 'o_ox']                 |\n",
        "| xo__ | ['_o__']          | xo__    | ['xoo_', 'xo_o']                 |\n",
        "| _ox_ | ['_o__']          | _ox_    | ['oox_', '_oxo']                 |\n",
        "| _o_x | ['_o__']          | _o_x    | ['oo_x', '_oox']                 |\n",
        "| x_o_ | ['__o_']          | x_o_    | ['xoo_', 'x_oo']                 |\n",
        "| _xo_ | ['__o_']          | _xo_    | ['oxo_', '_xoo']                 |\n",
        "| __ox | ['__o_']          | __ox    | ['o_ox', '_oox']                 |\n",
        "| x__o | ['___o']          | x__o    | ['xo_o', 'x_oo']                 |\n",
        "| _x_o | ['___o']          | _x_o    | ['ox_o', '_xoo']                 |\n",
        "| __xo | ['___o']          | __xo    | ['o_xo', '_oxo']                 |\n",
        "| oxo_ | ['ox__', '_xo_']  | oxo_    | ['oxox']                         |\n",
        "| ox_o | ['ox__', '_x_o']  | ox_o    | ['oxxo']                         |\n",
        "| oox_ | ['o_x_', '_ox_']  | oox_    | ['ooxx']                         |\n",
        "| o_xo | ['o_x_', '__xo']  | o_xo    | ['oxxo']                         |\n",
        "| oo_x | ['o__x', '_o_x']  | oo_x    | ['ooxx']                         |\n",
        "| o_ox | ['o__x', '__ox']  | o_ox    | ['oxox']                         |\n",
        "| xoo_ | ['xo__', 'x_o_']  | xoo_    | ['xoox']                         |\n",
        "| xo_o | ['xo__', 'x__o']  | xo_o    | ['xoxo']                         |\n",
        "| _oxo | ['_ox_', '__xo']  | _oxo    | ['xoxo']                         |\n",
        "| _oox | ['_o_x', '__ox']  | _oox    | ['xoox']                         |\n",
        "| x_oo | ['x_o_', 'x__o']  | x_oo    | ['xxoo']                         |\n",
        "| _xoo | ['_xo_', '_x_o']  | _xoo    | ['xxoo']                         |\n",
        "| oxox | ['oxo_', 'o_ox']  | oxox    | []                               |\n",
        "| oxxo | ['ox_o', 'o_xo']  | oxxo    | []                               |\n",
        "| ooxx | ['oox_', 'oo_x']  | ooxx    | []                               |\n",
        "| xoox | ['xoo_', '_oox']  | xoox    | []                               |\n",
        "| xoxo | ['xo_o', '_oxo']  | xoxo    | []                               |\n",
        "| xxoo | ['x_oo', '_xoo']  | xxoo    | []                               |\n"
      ]
    },
    {
      "cell_type": "markdown",
      "metadata": {
        "id": "cNsn1TjoQA5V"
      },
      "source": [
        "# 出力"
      ]
    },
    {
      "cell_type": "code",
      "metadata": {
        "id": "2CEigR_DP_W-"
      },
      "source": [
        "# solvedDfをox_outputという名前で書き出し\n",
        "solvedDf.to_csv('/content/drive/My Drive/ox/workspace/ox_output.csv')"
      ],
      "execution_count": 220,
      "outputs": []
    },
    {
      "cell_type": "code",
      "metadata": {
        "id": "RdsAPq6MQG87",
        "outputId": "b1d4d726-85ae-46e6-ad4c-e4bc4a919d17",
        "colab": {
          "base_uri": "https://localhost:8080/"
        }
      },
      "source": [
        "# ox_outputの確認\n",
        "\n",
        "solvedDf = pd.read_csv(\n",
        "    \"/content/drive/My Drive/ox/workspace/ox_output.csv\",\n",
        "    index_col=0, # 最初の１行はデータ名。\n",
        "    encoding=\"cp932\" # windowsの追加文字に対応。おまじないだと思えば良い。\n",
        "    )\n",
        "print(solvedDf)"
      ],
      "execution_count": 223,
      "outputs": [
        {
          "output_type": "stream",
          "text": [
            "       PREVIOUS_STATES STATE                       NEXT_STATES\n",
            "____              ['']  ____  ['o___', '_o__', '__o_', '___o']\n",
            "o___          ['____']  o___          ['ox__', 'o_x_', 'o__x']\n",
            "_o__          ['____']  _o__          ['xo__', '_ox_', '_o_x']\n",
            "__o_          ['____']  __o_          ['x_o_', '_xo_', '__ox']\n",
            "___o          ['____']  ___o          ['x__o', '_x_o', '__xo']\n",
            "ox__          ['o___']  ox__                  ['oxo_', 'ox_o']\n",
            "o_x_          ['o___']  o_x_                  ['oox_', 'o_xo']\n",
            "o__x          ['o___']  o__x                  ['oo_x', 'o_ox']\n",
            "xo__          ['_o__']  xo__                  ['xoo_', 'xo_o']\n",
            "_ox_          ['_o__']  _ox_                  ['oox_', '_oxo']\n",
            "_o_x          ['_o__']  _o_x                  ['oo_x', '_oox']\n",
            "x_o_          ['__o_']  x_o_                  ['xoo_', 'x_oo']\n",
            "_xo_          ['__o_']  _xo_                  ['oxo_', '_xoo']\n",
            "__ox          ['__o_']  __ox                  ['o_ox', '_oox']\n",
            "x__o          ['___o']  x__o                  ['xo_o', 'x_oo']\n",
            "_x_o          ['___o']  _x_o                  ['ox_o', '_xoo']\n",
            "__xo          ['___o']  __xo                  ['o_xo', '_oxo']\n",
            "oxo_  ['ox__', '_xo_']  oxo_                          ['oxox']\n",
            "ox_o  ['ox__', '_x_o']  ox_o                          ['oxxo']\n",
            "oox_  ['o_x_', '_ox_']  oox_                          ['ooxx']\n",
            "o_xo  ['o_x_', '__xo']  o_xo                          ['oxxo']\n",
            "oo_x  ['o__x', '_o_x']  oo_x                          ['ooxx']\n",
            "o_ox  ['o__x', '__ox']  o_ox                          ['oxox']\n",
            "xoo_  ['xo__', 'x_o_']  xoo_                          ['xoox']\n",
            "xo_o  ['xo__', 'x__o']  xo_o                          ['xoxo']\n",
            "_oxo  ['_ox_', '__xo']  _oxo                          ['xoxo']\n",
            "_oox  ['_o_x', '__ox']  _oox                          ['xoox']\n",
            "x_oo  ['x_o_', 'x__o']  x_oo                          ['xxoo']\n",
            "_xoo  ['_xo_', '_x_o']  _xoo                          ['xxoo']\n",
            "oxox  ['oxo_', 'o_ox']  oxox                                []\n",
            "oxxo  ['ox_o', 'o_xo']  oxxo                                []\n",
            "ooxx  ['oox_', 'oo_x']  ooxx                                []\n",
            "xoox  ['xoo_', '_oox']  xoox                                []\n",
            "xoxo  ['xo_o', '_oxo']  xoxo                                []\n",
            "xxoo  ['x_oo', '_xoo']  xxoo                                []\n"
          ],
          "name": "stdout"
        }
      ]
    },
    {
      "cell_type": "markdown",
      "metadata": {
        "id": "zo2EywwSQqZ7"
      },
      "source": [
        "計画\n",
        "\n",
        "- [x] 入力、処理、出力の雛形作成\n",
        "- [x] ２ｘ２のoxゲームを実装\n",
        "\n",
        "## 2x2\n",
        "\n",
        "- 探索しよう。\n",
        "初期状態とルールか。\n",
        "- 状態をぶちこむと、次の状態を返す関数。\n",
        "- 次の状態からｄｆを適切に変更。"
      ]
    },
    {
      "cell_type": "code",
      "metadata": {
        "id": "ZdYXvoBQODj0",
        "outputId": "1644d0f0-ed46-4d57-9edd-d12cbeb3dec5",
        "colab": {
          "base_uri": "https://localhost:8080/"
        }
      },
      "source": [
        "# nodeの勝ち負け判定に使う。\n",
        "# csvの読み込み\n",
        "df = pd.read_csv(\n",
        "    \"/content/drive/My Drive/ox/workspace/ox.csv\",\n",
        "    index_col=0, # 最初の１行はデータ名。\n",
        "    encoding=\"cp932\" # windowsの追加文字に対応。おまじないだと思えば良い。\n",
        "    )\n",
        "print(df)\n",
        "# print(df.query(\"id==0\").to_numpy(copy=True).flatten())"
      ],
      "execution_count": 170,
      "outputs": [
        {
          "output_type": "stream",
          "text": [
            "    front_id  next_id    state\n",
            "id                            \n",
            "0        NaN        1  _,_,_,_\n"
          ],
          "name": "stdout"
        }
      ]
    },
    {
      "cell_type": "code",
      "metadata": {
        "id": "Oq56LIo8EzfI"
      },
      "source": [
        ""
      ],
      "execution_count": null,
      "outputs": []
    }
  ]
}