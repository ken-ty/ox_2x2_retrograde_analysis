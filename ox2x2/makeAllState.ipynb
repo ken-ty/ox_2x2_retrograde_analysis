{
  "nbformat": 4,
  "nbformat_minor": 0,
  "metadata": {
    "colab": {
      "name": "ox2x2.ipynb",
      "provenance": [],
      "collapsed_sections": [],
      "include_colab_link": true
    },
    "kernelspec": {
      "name": "python3",
      "display_name": "Python 3"
    }
  },
  "cells": [
    {
      "cell_type": "markdown",
      "metadata": {
        "id": "view-in-github",
        "colab_type": "text"
      },
      "source": [
        "<a href=\"https://colab.research.google.com/github/kentokura/ox_2x2_retrograde_analysis/blob/main/ox2x2/makeAllState.ipynb\" target=\"_parent\"><img src=\"https://colab.research.google.com/assets/colab-badge.svg\" alt=\"Open In Colab\"/></a>"
      ]
    },
    {
      "cell_type": "markdown",
      "metadata": {
        "id": "31sI6dOPdG9p"
      },
      "source": [
        "ノードの３状態:\n",
        "  - 未発見\n",
        "    unsolved, solvedのいずれにもnext_nodeが存在しない\n",
        "  - 未訪問\n",
        "    unsolvedに存在する\n",
        "  - 既訪問\n",
        "    solvedに存在する\n",
        "\n",
        "処理:\n",
        "- 初期状態\"____\"を未訪問にする.\n",
        "- 未訪問キューが空になるまで以下を行う # BFS開始\n",
        "  1. 未訪問キューから先頭のノードをcurrent_nodeとしてpopする.\n",
        "  1. 盤面の勝敗判定を行う。\n",
        "    1. もし、勝敗がついている盤面なら、\n",
        "      1. RESULTに勝敗を記録\n",
        "    1. 勝敗がついていない盤面なら\n",
        "      1. current_nodeを探索し、次のノード(next_nodes)全てをnext_nodesとして列挙する.\n",
        "      1. next_nodesの要素next_nodeそれぞれに対して、以下を行う.\n",
        "        1. もし、next_nodeが未発見ならば、\n",
        "          1. そのノードを未訪問にする.\n",
        "        1. そうではなく、発見済みならば\n",
        "          1. 特になし.\n",
        "        1. next_node.previous_nodeにcurrent_nodeを追加する.\n",
        "        1. current_node.next_node.にnext_nodeを追加する.\n",
        "  1. ノード（current_node）を既訪問にする.\n",
        "\n",
        "1. solvedをcsvで書き出し."
      ]
    },
    {
      "cell_type": "markdown",
      "metadata": {
        "id": "haKFa3MPP6Ju"
      },
      "source": [
        "# インプット"
      ]
    },
    {
      "cell_type": "code",
      "metadata": {
        "id": "g2bHly7CIMmC",
        "outputId": "d05b1683-0894-4566-fc85-ee77f5da0341",
        "colab": {
          "base_uri": "https://localhost:8080/"
        }
      },
      "source": [
        "# ドライブのマウント\n",
        "from google.colab import drive\n",
        "drive.mount('/content/drive')"
      ],
      "execution_count": 1,
      "outputs": [
        {
          "output_type": "stream",
          "text": [
            "Mounted at /content/drive\n"
          ],
          "name": "stdout"
        }
      ]
    },
    {
      "cell_type": "code",
      "metadata": {
        "id": "GLl6LwAOI689"
      },
      "source": [
        "# csvの読み込むためのモジュール\n",
        "import pandas as pd\n",
        "from pandas import DataFrame\n",
        "import numpy as np\n",
        "from tabulate import tabulate # pandasのdfをきれいに出力するためのモジュール"
      ],
      "execution_count": 2,
      "outputs": []
    },
    {
      "cell_type": "markdown",
      "metadata": {
        "id": "IUkeWGcNP-ky"
      },
      "source": [
        "# 処理"
      ]
    },
    {
      "cell_type": "code",
      "metadata": {
        "id": "QMG-kkSufZtu",
        "outputId": "84485d31-347f-4e97-a615-ecf93629b620",
        "colab": {
          "base_uri": "https://localhost:8080/"
        }
      },
      "source": [
        "### BFSでゲーム木を作成するプログラム ### \n",
        "\n",
        "###\n",
        "\n",
        "### 関数群ここから ###\n",
        "\n",
        "# stateを入力すると、その盤面の勝敗を返す関数\n",
        "def resultcheck(state: str) -> str:\n",
        "  # return 一覧\n",
        "    # \"o_win\"\n",
        "    # \"x_win\"\n",
        "    # \"draw\"\n",
        "    # \"\"\n",
        "  result = \"\"\n",
        "  if len(state) == 4:\n",
        "    state = list(state)\n",
        "    if (state[0] != \"_\" and (state[0] == state[1] or state[0] == state[2] or state[0] == state[3])) or (state[1] != \"_\" and (state[1] == state[2] or state[1] == state[3] )) or (state[2] != \"_\" and state[2] == state[3]):\n",
        "      result = \"{}_win\".format(state[0])\n",
        "    elif state in [\"oooo\", \"xxxx\"]:\n",
        "      result = \"draw\"\n",
        "\n",
        "  return result\n",
        "\n",
        "# stateを入力すると、正規化したstateを返す関数\n",
        "def normalization(state: str) -> str: \n",
        "    normalization_state = state\n",
        "    if state in [\"o___\", \"_o__\", \"__o_\", \"___o\"]:\n",
        "      normalization_state = \"o___\"\n",
        "    elif state ==  [\"ox__\", \"o_x_\", \"_o_x\", \"xo__\", \"_x_o\", \"__xo\", \"x_o_\", \"__ox\"]:\n",
        "      normalization_state =\"ox__\"\n",
        "    elif state ==  [\"o__x\", \"_ox_\", \"x_o_\", \"_x_o\"]:\n",
        "      normalization_state = \"o__x\"\n",
        "    elif state ==  [\"x_oo\", \"xo_o\", \"oxo_\", \"_xoo\", \"oox_\", \"_oxo\", \"oo_x\", \"o_ox\"]:\n",
        "      normalization_state = \"oxo_\"\n",
        "    elif state ==  [\"xoo_\", \"ox_o\", \"o_xo\", \"_oox\"]:\n",
        "      normalization_state = \"ox_o\"\n",
        "    elif state ==  [\"oxox\", \"xxoo\", \"xoxo\", \"ooxx\"]:\n",
        "      normalization_state = \"oxox\"\n",
        "    elif state ==  [\"oxxo\", \"xoox\"]:\n",
        "      normalization_state = \"oxxo\"\n",
        "\n",
        "    return normalization_state\n",
        "\n",
        "# state を入力すると、次のstateのリストを出力する関数\n",
        "\n",
        "def nextStates(state: str) -> list: \n",
        "  next_states = []\n",
        "  # 次の手番の決定\n",
        "  player = \"_\"\n",
        "  if state.count('o') <= state.count('x'):\n",
        "    player = \"o\"\n",
        "  else:\n",
        "    player = \"x\"\n",
        "  # next_nodeの作成\n",
        "  for i, piece in enumerate(state):\n",
        "    if piece == \"_\":\n",
        "      next_state = list(state)\n",
        "      next_state[i] = player\n",
        "      next_states.append(''.join(next_state))\n",
        "      # print(next_states)\n",
        "  # return next_states\n",
        "  # next_statesに登録された全てのstateを正規化\n",
        "  normalization_next_states = []\n",
        "  for next_state in next_states:\n",
        "    normalization_next_state = normalization(next_state)\n",
        "    normalization_next_states.append(''.join(normalization_next_state))\n",
        "  # 重複削除\n",
        "  normalization_next_states = list(set(normalization_next_states))\n",
        "  return normalization_next_states\n",
        "\n",
        "### 関数群ここまで\n",
        "\n",
        "### 設定ここから ###\n",
        "printFlag = False\n",
        "\n",
        "### 設定ここまで ###\n",
        "\n",
        "###mainここから\n",
        "\n",
        "# unsolvedDf, solvedDfの初期化\n",
        "if printFlag:\n",
        "  print(\"===\")\n",
        "  print(\"プログラム開始\")\n",
        "  print(\"===\")\n",
        "  print()\n",
        "  print(\"データを初期化します\")\n",
        "cols = [\"PREVIOUS_STATES\", \"STATE\", \"NEXT_STATES\", \"RESULT\"] #[前の状態list， 状態, 次の状態list]\n",
        "df = pd.DataFrame(index=[], columns=cols)\n",
        "df.set_index(\"STATE\")\n",
        "unsolvedDf = df\n",
        "solvedDf = df\n",
        "if printFlag:\n",
        "  print(\"データを初期化しました\")\n",
        "  print()\n",
        "\n",
        "# 初期状態\"____\"をunsolvedに追加する。unsolvedに積まれているノードは未訪問.\n",
        "if printFlag:\n",
        "  print(\"===\")\n",
        "  print(\"BFSの準備\")\n",
        "  print(\"===\")\n",
        "  print()\n",
        "  print(\"初期状態をセットします\")\n",
        "init_state = \"____\"\n",
        "previous_state = \"\"\n",
        "unsolvedDf = unsolvedDf.append(pd.Series([[previous_state], init_state, \"unsolved\", \"\"], index=df.columns, name=init_state))\n",
        "if printFlag:\n",
        "  print(\"初期状態をセットしました\") # 確認\n",
        "  print(\"確認[UNSOLVED_DF]:\") # 確認\n",
        "  print(unsolvedDf) # 確認\n",
        "  print() # 確認\n",
        "\n",
        "# unsolvedが空になるまで以下を行う. BFS開始\n",
        "if printFlag:\n",
        "  print(\"===\")\n",
        "  print(\"BFSを開始します\")\n",
        "  print(\"===\")\n",
        "  print()\n",
        "for _ in range(1000): # while len(unsolvedDf) > 0: # 開発のためにfor文にしている。\n",
        "  # unsolvedDfから先頭のノードをpopする。\n",
        "  if len(unsolvedDf) <= 0:\n",
        "    break;\n",
        "  current_node = unsolvedDf.iloc[0]  # 先頭のノード(current_node)を抽出。\n",
        "  unsolvedDf.drop(unsolvedDf.index[0], inplace=True)  # 抽出したノードをunsolvedから削除。\n",
        "  # 勝敗の確認\n",
        "  result = resultcheck(current_node.STATE)\n",
        "  # 勝敗確定盤面なら\n",
        "  if result != \"\":\n",
        "    current_node.RESULT = result\n",
        "    current_node.NEXT_STATES = []\n",
        "  else:  # 勝敗確定盤面でないなら\n",
        "    # 先頭のノード(current_node)から次のノード(next_nodes)を探索する。\n",
        "    next_states = nextStates(current_node.STATE) # 次のノードの探索結果\n",
        "    current_node.NEXT_STATES = next_states # current_nodeのNEXT_STATESに探索結果を反映\n",
        "    # 探索した全ての状態について、以下を行う。\n",
        "    if printFlag:\n",
        "      print(\"unsolvedDfからpopされたノード'{}'の探索を行います\".format(current_node.STATE))\n",
        "    if len(next_states) <= 0:\n",
        "      if printFlag:\n",
        "        print(\"    探索結果: このノードは末端です\")\n",
        "    for next_state in next_states:\n",
        "      # もし、next_nodeが未発見ならば # unsolved, solvedのいずれにもnext_nodeが存在しない\n",
        "      if (next_state not in unsolvedDf.STATE.values) and (next_state not in solvedDf.STATE.values):\n",
        "        if next_state == current_node.STATE: # 次のノードが自身と同一\n",
        "          if printFlag:\n",
        "            print(\"探索結果: 自身のノード'{}'と同一です\".format(next_state))\n",
        "          continue;\n",
        "        else:\n",
        "          if printFlag:\n",
        "            print(\"    探索結果: 未発見のノード'{}'です\".format(next_state))\n",
        "          # T)そのノードを未訪問にする。 # unsolvedに追加\n",
        "          previous_state = [current_node.STATE]\n",
        "          next_node = pd.Series([previous_state, next_state, \"unsolved\", \"\"], index=df.columns, name=next_state) # next_nodeの作成\n",
        "          unsolvedDf = unsolvedDf.append(next_node)\n",
        "      else:  # F)そうではなく、発見済みならば\n",
        "        if printFlag:\n",
        "          print(\"    探索結果: 発見済みのノード'{}'です\".format(next_state))\n",
        "        #これを既に登録されていたノードのprevious_stateに追加する。\n",
        "        previous_state = [current_node.STATE] \n",
        "        if next_state in unsolvedDf.STATE.values: # unsolvedDfに存在\n",
        "          if printFlag:\n",
        "            print(\"        これはunsolvedに存在しています\")\n",
        "          # unsolvedDf[unsolvedDf.STATE.values == next_state])にprevious_stateを追加する\n",
        "          tmp = unsolvedDf.loc[next_state, \"PREVIOUS_STATES\"]\n",
        "          tmp.append(previous_state[0])       \n",
        "          unsolvedDf.loc[next_state, \"PREVIOUS_STATES\"] = tmp\n",
        "        elif next_state in solvedDf.STATE.values:# solveDfに存在\n",
        "          if printFlag:\n",
        "            print(\"        これはsolvedに存在しています\")\n",
        "          # solvedDf[solvedDf.STATE.values == next_state])にprevious_stateを追加する\n",
        "          tmp = solvedDf.loc[next_state, \"PREVIOUS_STATES\"]\n",
        "          tmp.append(previous_state[0])       \n",
        "          solvedDf.loc[next_state, \"PREVIOUS_STATES\"] = tmp\n",
        "        else: # 何らかの理由で漏れた状態\n",
        "          print(\"        エラー\")\n",
        "  # 現在のノード（current_node）をsolvedDfに追加する。solvedDfのノードは既訪問。 \n",
        "  solvedDf = solvedDf.append(current_node)\n",
        "\n",
        "if printFlag:\n",
        "  print()\n",
        "  print(\"BFSが終了しました\")\n",
        "  print()\n",
        "\n",
        "# 結果確認\n",
        "print(\"===\")\n",
        "print(\"結果確認\")\n",
        "print(\"===\")\n",
        "print()\n",
        "print(\"確認[unsolvedDf]:\")\n",
        "print()\n",
        "print(tabulate(unsolvedDf, unsolvedDf.columns,tablefmt='github', showindex=True))\n",
        "print()\n",
        "print(\"確認[solvedDf]:\")\n",
        "print()\n",
        "print(tabulate(solvedDf, solvedDf.columns,tablefmt='github', showindex=True))\n",
        "print()\n",
        "\n",
        "\n",
        "### mainここまで"
      ],
      "execution_count": 18,
      "outputs": [
        {
          "output_type": "stream",
          "text": [
            "===\n",
            "結果確認\n",
            "===\n",
            "\n",
            "確認[unsolvedDf]:\n",
            "\n",
            "| PREVIOUS_STATES   | STATE   | NEXT_STATES   | RESULT   |\n",
            "|-------------------|---------|---------------|----------|\n",
            "\n",
            "確認[solvedDf]:\n",
            "\n",
            "|      | PREVIOUS_STATES   | STATE   | NEXT_STATES              | RESULT   |\n",
            "|------|-------------------|---------|--------------------------|----------|\n",
            "| ____ | ['']              | ____    | ['o___']                 |          |\n",
            "| o___ | ['____']          | o___    | ['o__x', 'o_x_', 'ox__'] |          |\n",
            "| o__x | ['o___']          | o__x    | ['oo_x', 'o_ox']         |          |\n",
            "| o_x_ | ['o___']          | o_x_    | ['o_xo', 'oox_']         |          |\n",
            "| ox__ | ['o___']          | ox__    | ['oxo_', 'ox_o']         |          |\n",
            "| oo_x | ['o__x']          | oo_x    | []                       | o_win    |\n",
            "| o_ox | ['o__x']          | o_ox    | []                       | o_win    |\n",
            "| o_xo | ['o_x_']          | o_xo    | []                       | o_win    |\n",
            "| oox_ | ['o_x_']          | oox_    | []                       | o_win    |\n",
            "| oxo_ | ['ox__']          | oxo_    | []                       | o_win    |\n",
            "| ox_o | ['ox__']          | ox_o    | []                       | o_win    |\n",
            "\n"
          ],
          "name": "stdout"
        }
      ]
    },
    {
      "cell_type": "markdown",
      "metadata": {
        "id": "q42ll3WPfeDh"
      },
      "source": [
        "### 出力結果\n",
        "\n",
        "確認[solvedDf]:\n",
        "\n",
        "|      | PREVIOUS_STATES   | STATE   | NEXT_STATES              | RESULT   |\n",
        "|------|-------------------|---------|--------------------------|----------|\n",
        "| ____ | ['']              | ____    | ['o___']                 |          |\n",
        "| o___ | ['____']          | o___    | ['o__x', 'o_x_', 'ox__'] |          |\n",
        "| o__x | ['o___']          | o__x    | ['oo_x', 'o_ox']         |          |\n",
        "| o_x_ | ['o___']          | o_x_    | ['o_xo', 'oox_']         |          |\n",
        "| ox__ | ['o___']          | ox__    | ['oxo_', 'ox_o']         |          |\n",
        "| oo_x | ['o__x']          | oo_x    | []                       | o_win    |\n",
        "| o_ox | ['o__x']          | o_ox    | []                       | o_win    |\n",
        "| o_xo | ['o_x_']          | o_xo    | []                       | o_win    |\n",
        "| oox_ | ['o_x_']          | oox_    | []                       | o_win    |\n",
        "| oxo_ | ['ox__']          | oxo_    | []                       | o_win    |\n",
        "| ox_o | ['ox__']          | ox_o    | []                       | o_win    |"
      ]
    },
    {
      "cell_type": "markdown",
      "metadata": {
        "id": "cNsn1TjoQA5V"
      },
      "source": [
        "# 出力"
      ]
    },
    {
      "cell_type": "code",
      "metadata": {
        "id": "2CEigR_DP_W-"
      },
      "source": [
        "# solvedDfをox_outputという名前で書き出し\n",
        "solvedDf.to_csv('/content/drive/My Drive/ox/workspace/ox_output.csv')"
      ],
      "execution_count": 19,
      "outputs": []
    },
    {
      "cell_type": "code",
      "metadata": {
        "id": "RdsAPq6MQG87",
        "outputId": "be89edf0-3ebb-48c5-df0d-9e31c35a1ba7",
        "colab": {
          "base_uri": "https://localhost:8080/"
        }
      },
      "source": [
        "# ox_outputの確認\n",
        "\n",
        "solvedDf = pd.read_csv(\n",
        "    \"/content/drive/My Drive/ox/workspace/ox_output.csv\",\n",
        "    index_col=0, # 最初の１行はデータ名。\n",
        "    encoding=\"cp932\" # windowsの追加文字に対応。おまじないだと思えば良い。\n",
        "    )\n",
        "print(solvedDf)"
      ],
      "execution_count": 20,
      "outputs": [
        {
          "output_type": "stream",
          "text": [
            "     PREVIOUS_STATES STATE               NEXT_STATES RESULT\n",
            "____            ['']  ____                  ['o___']    NaN\n",
            "o___        ['____']  o___  ['o__x', 'o_x_', 'ox__']    NaN\n",
            "o__x        ['o___']  o__x          ['oo_x', 'o_ox']    NaN\n",
            "o_x_        ['o___']  o_x_          ['o_xo', 'oox_']    NaN\n",
            "ox__        ['o___']  ox__          ['oxo_', 'ox_o']    NaN\n",
            "oo_x        ['o__x']  oo_x                        []  o_win\n",
            "o_ox        ['o__x']  o_ox                        []  o_win\n",
            "o_xo        ['o_x_']  o_xo                        []  o_win\n",
            "oox_        ['o_x_']  oox_                        []  o_win\n",
            "oxo_        ['ox__']  oxo_                        []  o_win\n",
            "ox_o        ['ox__']  ox_o                        []  o_win\n"
          ],
          "name": "stdout"
        }
      ]
    },
    {
      "cell_type": "code",
      "metadata": {
        "id": "grEiGTi5tWdw"
      },
      "source": [
        ""
      ],
      "execution_count": null,
      "outputs": []
    }
  ]
}